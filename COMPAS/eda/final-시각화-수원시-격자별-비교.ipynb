{
 "cells": [
  {
   "cell_type": "code",
   "execution_count": 1,
   "id": "polar-asian",
   "metadata": {},
   "outputs": [
    {
     "name": "stderr",
     "output_type": "stream",
     "text": [
      "/opt/app-root/lib/python3.6/site-packages/geopandas/_compat.py:110: UserWarning: The Shapely GEOS version (3.8.0-CAPI-1.13.1 ) is incompatible with the GEOS version PyGEOS was compiled with (3.9.0-CAPI-1.16.2). Conversions between both will be slow.\n",
      "  shapely_geos_version, geos_capi_version_string\n"
     ]
    }
   ],
   "source": [
    "from geoband.API import *\n",
    "\n",
    "import pandas as pd\n",
    "import numpy as np\n",
    "import matplotlib.pyplot as plt\n",
    "import geopandas as gpd\n",
    "import seaborn as sns\n",
    "\n",
    "import os\n",
    "from tqdm import tqdm\n",
    "\n",
    "import json\n",
    "import time\n",
    "\n",
    "import warnings\n",
    "warnings.filterwarnings(action='ignore')\n",
    "from IPython.display import display\n",
    "\n",
    "from tqdm import tqdm\n",
    "import folium\n",
    "from folium import plugins\n",
    "from folium.plugins import StripePattern"
   ]
  },
  {
   "cell_type": "code",
   "execution_count": 2,
   "id": "marine-editor",
   "metadata": {},
   "outputs": [],
   "source": [
    "def fix_font():\n",
    "    # From https://HC.Dle.pw, By Jinseo Kim\n",
    "    # v1.0.0\n",
    "    import os\n",
    "    import matplotlib as mpl\n",
    "    import matplotlib.pyplot as plt\n",
    "    os.system(\"apt-get install -y fonts-nanum\")\n",
    "    os.system(\"fc-cache -fv\")\n",
    "    mpl.font_manager._rebuild()\n",
    "    findfont = mpl.font_manager.fontManager.findfont\n",
    "    mpl.font_manager.findfont = findfont\n",
    "    mpl.backends.backend_agg.findfont = findfont\n",
    "    plt.rcParams['font.family'] = \"NanumBarunGothic\"\n",
    "    plt.rcParams['axes.unicode_minus'] = False\n",
    "           \n",
    "fix_font()"
   ]
  },
  {
   "cell_type": "markdown",
   "id": "worst-transcription",
   "metadata": {},
   "source": [
    "## 수원시 표준 격자 기준으로 데이터 모으기\n",
    "\n",
    "수원시 표준 격자를 기준으로 해당 격자안에 있는 데이터들을 모아보겠습니다."
   ]
  },
  {
   "cell_type": "code",
   "execution_count": 3,
   "id": "accessible-requirement",
   "metadata": {},
   "outputs": [
    {
     "data": {
      "text/html": [
       "<div>\n",
       "<style scoped>\n",
       "    .dataframe tbody tr th:only-of-type {\n",
       "        vertical-align: middle;\n",
       "    }\n",
       "\n",
       "    .dataframe tbody tr th {\n",
       "        vertical-align: top;\n",
       "    }\n",
       "\n",
       "    .dataframe thead th {\n",
       "        text-align: right;\n",
       "    }\n",
       "</style>\n",
       "<table border=\"1\" class=\"dataframe\">\n",
       "  <thead>\n",
       "    <tr style=\"text-align: right;\">\n",
       "      <th></th>\n",
       "      <th>gid</th>\n",
       "      <th>geometry</th>\n",
       "    </tr>\n",
       "  </thead>\n",
       "  <tbody>\n",
       "    <tr>\n",
       "      <th>0</th>\n",
       "      <td>다사49aa19ab</td>\n",
       "      <td>MULTIPOLYGON (((126.92477 37.27077, 126.92475 ...</td>\n",
       "    </tr>\n",
       "    <tr>\n",
       "      <th>1</th>\n",
       "      <td>다사49aa19ba</td>\n",
       "      <td>MULTIPOLYGON (((126.92475 37.27302, 126.92473 ...</td>\n",
       "    </tr>\n",
       "    <tr>\n",
       "      <th>2</th>\n",
       "      <td>다사49aa20aa</td>\n",
       "      <td>MULTIPOLYGON (((126.92472 37.27753, 126.92470 ...</td>\n",
       "    </tr>\n",
       "    <tr>\n",
       "      <th>3</th>\n",
       "      <td>다사49ab18ab</td>\n",
       "      <td>MULTIPOLYGON (((126.92766 37.26177, 126.92764 ...</td>\n",
       "    </tr>\n",
       "    <tr>\n",
       "      <th>4</th>\n",
       "      <td>다사49ab18ba</td>\n",
       "      <td>MULTIPOLYGON (((126.92764 37.26402, 126.92762 ...</td>\n",
       "    </tr>\n",
       "  </tbody>\n",
       "</table>\n",
       "</div>"
      ],
      "text/plain": [
       "          gid                                           geometry\n",
       "0  다사49aa19ab  MULTIPOLYGON (((126.92477 37.27077, 126.92475 ...\n",
       "1  다사49aa19ba  MULTIPOLYGON (((126.92475 37.27302, 126.92473 ...\n",
       "2  다사49aa20aa  MULTIPOLYGON (((126.92472 37.27753, 126.92470 ...\n",
       "3  다사49ab18ab  MULTIPOLYGON (((126.92766 37.26177, 126.92764 ...\n",
       "4  다사49ab18ba  MULTIPOLYGON (((126.92764 37.26402, 126.92762 ..."
      ]
     },
     "execution_count": 3,
     "metadata": {},
     "output_type": "execute_result"
    }
   ],
   "source": [
    "GetCompasData('SBJ_2109_001', '32', '32.수원시_표준격자(250M_x_250M).geojson')\n",
    "suwon_grid = gpd.read_file('32.수원시_표준격자(250M_x_250M).geojson')\n",
    "suwon_grid.head()"
   ]
  },
  {
   "cell_type": "markdown",
   "id": "fitted-pollution",
   "metadata": {},
   "source": [
    "### 격자 별 공원 수"
   ]
  },
  {
   "cell_type": "code",
   "execution_count": 4,
   "id": "threaded-income",
   "metadata": {},
   "outputs": [],
   "source": [
    "GetCompasData('SBJ_2109_001', '27', '27.4개시도_공원현황.csv')\n",
    "park_df = pd.read_csv('27.4개시도_공원현황.csv')"
   ]
  },
  {
   "cell_type": "code",
   "execution_count": 5,
   "id": "lonely-society",
   "metadata": {},
   "outputs": [],
   "source": [
    "suwon_grid[\"park_cnt\"] = 0"
   ]
  },
  {
   "cell_type": "code",
   "execution_count": 6,
   "id": "passive-smoke",
   "metadata": {},
   "outputs": [],
   "source": [
    "from shapely.geometry import Point, Polygon, LineString\n",
    "for park_idx, park_row in tqdm(park_df.iterrows()): #위치 좌표 데이터\n",
    "    for grid_idx, grid_row in suwon_grid.iterrows(): #수원 표준격자 데이터\n",
    "        grid = grid_row[\"geometry\"]\n",
    "        po = Point([park_row['lon'], park_row['lat']])\n",
    "        if po.within(grid) == True:\n",
    "            suwon_grid[\"park_cnt\"][grid_idx] += 1"
   ]
  },
  {
   "cell_type": "markdown",
   "id": "considerable-preservation",
   "metadata": {},
   "source": [
    "### 격자별 파출소 수 (신고 수 기준)\n",
    "수원시 신고이력을 토대로 파출소를 셌기 때문에, 해당 격자에 출동을 한 파출소를 세는 것에 해당합니다."
   ]
  },
  {
   "cell_type": "code",
   "execution_count": 7,
   "id": "insured-commissioner",
   "metadata": {},
   "outputs": [],
   "source": [
    "GetCompasData('SBJ_2109_001', '1', '1.수원시_112신고이력(격자_관할경계매핑).csv')\n",
    "suwon_grid_report = pd.read_csv('1.수원시_112신고이력(격자_관할경계매핑).csv')"
   ]
  },
  {
   "cell_type": "code",
   "execution_count": 8,
   "id": "disabled-neutral",
   "metadata": {},
   "outputs": [],
   "source": [
    "temp_df = pd.pivot_table(suwon_grid_report,\n",
    "               index='gid',\n",
    "               columns='name',\n",
    "               values='arrival_date',\n",
    "               aggfunc='count'\n",
    "               )\n"
   ]
  },
  {
   "cell_type": "code",
   "execution_count": 9,
   "id": "listed-transaction",
   "metadata": {},
   "outputs": [],
   "source": [
    "temp_count_df = temp_df.T.notnull().sum()\n",
    "temp_count_df = temp_count_df.to_frame()\n",
    "temp_count_df.rename(columns={0: 'patrol_cnt'}, inplace=True)"
   ]
  },
  {
   "cell_type": "code",
   "execution_count": 11,
   "id": "creative-reverse",
   "metadata": {},
   "outputs": [],
   "source": [
    "temp_count_df = temp_count_df.reset_index()"
   ]
  },
  {
   "cell_type": "code",
   "execution_count": 13,
   "id": "reasonable-aircraft",
   "metadata": {},
   "outputs": [],
   "source": [
    "suwon_grid = pd.merge(suwon_grid, temp_count_df, on='gid', how='left')\n",
    "suwon_grid.fillna(0, inplace=True)"
   ]
  },
  {
   "cell_type": "markdown",
   "id": "alert-harvest",
   "metadata": {},
   "source": [
    "### 격자별 비상벨 수"
   ]
  },
  {
   "cell_type": "code",
   "execution_count": 14,
   "id": "russian-crazy",
   "metadata": {},
   "outputs": [],
   "source": [
    "GetCompasData('SBJ_2109_001', '23', '23.4개시도_안전비상벨현황.geojson')\n",
    "bell_df = gpd.read_file('23.4개시도_안전비상벨현황.geojson')"
   ]
  },
  {
   "cell_type": "code",
   "execution_count": 15,
   "id": "listed-movie",
   "metadata": {},
   "outputs": [],
   "source": [
    "suwon_grid[\"bell_cnt\"] = 0"
   ]
  },
  {
   "cell_type": "code",
   "execution_count": 16,
   "id": "constant-asbestos",
   "metadata": {},
   "outputs": [],
   "source": [
    "for bell_idx, bell_row in tqdm(bell_df.iterrows()): #위치 좌표 데이터\n",
    "    for grid_idx, grid_row in suwon_grid.iterrows(): #수원 표준격자 데이터\n",
    "        grid = grid_row[\"geometry\"]\n",
    "        po = bell_row[\"geometry\"]\n",
    "        if po.within(grid) == True:\n",
    "            suwon_grid[\"bell_cnt\"][grid_idx] += 1"
   ]
  },
  {
   "cell_type": "markdown",
   "id": "considerable-shaft",
   "metadata": {},
   "source": [
    "### 격자별 여성안심택배함 수"
   ]
  },
  {
   "cell_type": "code",
   "execution_count": 17,
   "id": "hungry-graph",
   "metadata": {},
   "outputs": [],
   "source": [
    "GetCompasData('SBJ_2109_001', '20', '20.수원시_여성안심택배함현황.csv')\n",
    "women_parcel_df = pd.read_csv('20.수원시_여성안심택배함현황.csv')"
   ]
  },
  {
   "cell_type": "code",
   "execution_count": 18,
   "id": "empirical-mandate",
   "metadata": {},
   "outputs": [],
   "source": [
    "suwon_grid['womenpost_cnt'] = 0"
   ]
  },
  {
   "cell_type": "code",
   "execution_count": 19,
   "id": "precise-transcript",
   "metadata": {},
   "outputs": [],
   "source": [
    "for post_idx, post_row in tqdm(women_parcel_df.iterrows()): #위치 좌표 데이터\n",
    "    for grid_idx, grid_row in suwon_grid.iterrows(): #수원 표준격자 데이터\n",
    "        grid = post_row[\"geometry\"]\n",
    "        po = bell_row[\"geometry\"]\n",
    "        if po.within(grid) == True:\n",
    "            suwon_grid[\"womenpost_cnt\"][grid_idx] += 1"
   ]
  },
  {
   "cell_type": "markdown",
   "id": "spanish-berlin",
   "metadata": {},
   "source": [
    "### 격자별 CCTV 수"
   ]
  },
  {
   "cell_type": "code",
   "execution_count": 20,
   "id": "empty-definition",
   "metadata": {},
   "outputs": [],
   "source": [
    "GetCompasData('SBJ_2109_001', '24', '24.4개시도_CCTV설치현황.csv')\n",
    "df_cctv = pd.read_csv('24.4개시도_CCTV설치현황.csv')"
   ]
  },
  {
   "cell_type": "code",
   "execution_count": 21,
   "id": "civil-furniture",
   "metadata": {},
   "outputs": [],
   "source": [
    "df_cctv.dropna(subset=['address'], inplace=True)\n",
    "df_cctv['address'].isnull().sum()"
   ]
  },
  {
   "cell_type": "code",
   "execution_count": null,
   "id": "french-papua",
   "metadata": {},
   "outputs": [],
   "source": [
    "df_cctv_suwon = df_cctv[df_cctv['address'].str.startswith('경기') | df_cctv['address'].str.startswith('수원') \n",
    "                        | df_cctv['address'].str.startswith('팔달') | df_cctv['address'].str.startswith('권선')\n",
    "                        | df_cctv['address'].str.startswith('장안') | df_cctv['address'].str.startswith('영통')]"
   ]
  },
  {
   "cell_type": "code",
   "execution_count": null,
   "id": "bizarre-healthcare",
   "metadata": {},
   "outputs": [],
   "source": [
    "df_cctv.reindex(index=list(range(34525, 38363)))\n",
    "df_cctv_suwon.reset_index(drop=True, inplace=True)"
   ]
  },
  {
   "cell_type": "code",
   "execution_count": null,
   "id": "blocked-report",
   "metadata": {},
   "outputs": [],
   "source": [
    "from shapely.geometry import Point, Polygon, LineString\n",
    "points = []\n",
    "for i in range(0, len(df_cctv_suwon)):\n",
    "    point = Point(df_cctv_suwon['lon'][i], df_cctv_suwon['lat'][i])\n",
    "    points.append(point)\n",
    "    \n",
    "df_cctv_suwon['geometry'] = points"
   ]
  },
  {
   "cell_type": "code",
   "execution_count": null,
   "id": "bright-tractor",
   "metadata": {},
   "outputs": [],
   "source": [
    "suwon_grid['cctv_cnt'] = 0"
   ]
  },
  {
   "cell_type": "code",
   "execution_count": null,
   "id": "lightweight-homeless",
   "metadata": {},
   "outputs": [],
   "source": [
    "for i in range(0, len(df_cctv_suwon)):\n",
    "    for j in range(0, len(suwon_grid)):\n",
    "        if df_cctv_suwon['geometry'][i].within(suwon_grid['geometry'][j]):\n",
    "            suwon_grid['cctv_cnt'][j] = suwon_grid['cctv_cnt'][j] + df_cctv_suwon['cctv_cnt'][i]"
   ]
  },
  {
   "cell_type": "markdown",
   "id": "declared-ground",
   "metadata": {},
   "source": [
    "### 격자별 보안등 수"
   ]
  },
  {
   "cell_type": "code",
   "execution_count": null,
   "id": "posted-radar",
   "metadata": {},
   "outputs": [],
   "source": [
    "GetCompasData('SBJ_2109_001', '22', '22.4개시도_보안등현황.csv')\n",
    "df_sec_light = pd.read_csv('22.4개시도_보안등현황.csv')"
   ]
  },
  {
   "cell_type": "code",
   "execution_count": null,
   "id": "generous-explosion",
   "metadata": {},
   "outputs": [],
   "source": [
    "df_sec_light['address'].isnull().sum()\n",
    "df_sec_light.dropna(subset=['address'], inplace=True)\n",
    "df_sec_light['address'].isnull().sum()"
   ]
  },
  {
   "cell_type": "code",
   "execution_count": null,
   "id": "arbitrary-monster",
   "metadata": {},
   "outputs": [],
   "source": [
    "df_sec_light[df_sec_light['address'].str.startswith('경기')]"
   ]
  },
  {
   "cell_type": "code",
   "execution_count": null,
   "id": "armed-signature",
   "metadata": {},
   "outputs": [],
   "source": [
    "df_sec_light_suwon = df_sec_light.reindex(index = list(range(171483, 185403 + 1)))"
   ]
  },
  {
   "cell_type": "code",
   "execution_count": null,
   "id": "preceding-operations",
   "metadata": {},
   "outputs": [],
   "source": [
    "df_sec_light_suwon[df_sec_light_suwon['address'].isnull()]"
   ]
  },
  {
   "cell_type": "code",
   "execution_count": null,
   "id": "august-possession",
   "metadata": {},
   "outputs": [],
   "source": [
    "df_sec_light_suwon.reset_index(drop=True, inplace=True)"
   ]
  },
  {
   "cell_type": "code",
   "execution_count": null,
   "id": "emotional-money",
   "metadata": {},
   "outputs": [],
   "source": [
    "from shapely.geometry import Point, Polygon, LineString\n",
    "points_sec = []\n",
    "for i in range(0, len(df_sec_light_suwon)):\n",
    "    point = Point(df_sec_light_suwon['lon'][i], df_sec_light_suwon['lat'][i])\n",
    "    points_sec.append(point)"
   ]
  },
  {
   "cell_type": "code",
   "execution_count": null,
   "id": "optional-variable",
   "metadata": {},
   "outputs": [],
   "source": [
    "df_sec_light_suwon['geometry'] = points_sec"
   ]
  },
  {
   "cell_type": "code",
   "execution_count": null,
   "id": "talented-antibody",
   "metadata": {},
   "outputs": [],
   "source": [
    "suwon_grid['securitylight_cnt'] = 0"
   ]
  },
  {
   "cell_type": "code",
   "execution_count": null,
   "id": "tropical-accent",
   "metadata": {},
   "outputs": [],
   "source": [
    "for i in range(0, len(df_sec_light_suwon)):\n",
    "    for j in range(0, len(suwon_grid)):\n",
    "        if df_sec_light_suwon['geometry'][i].within(suwon_grid['geometry'][j]):\n",
    "            suwon_grid['securitylight_cnt'][j] = suwon_grid['securitylight_cnt'][j] + df_sec_light_suwon['securitylight_cnt'][i]"
   ]
  },
  {
   "cell_type": "markdown",
   "id": "urban-kinase",
   "metadata": {},
   "source": [
    "### 격자별 가로등 수"
   ]
  },
  {
   "cell_type": "code",
   "execution_count": null,
   "id": "nutritional-insight",
   "metadata": {},
   "outputs": [],
   "source": [
    "GetCompasData('SBJ_2109_001', '21', '21.수원시_가로등현황.csv')\n",
    "df_street_light = pd.read_csv('21.수원시_가로등현황.csv')"
   ]
  },
  {
   "cell_type": "code",
   "execution_count": null,
   "id": "tight-queen",
   "metadata": {},
   "outputs": [],
   "source": [
    "from shapely.geometry import Point, Polygon, LineString\n",
    "points_st = []\n",
    "for i in range(0, len(df_street_light)):\n",
    "    point = Point(df_street_light['lon'][i], df_street_light['lat'][i])\n",
    "    points_st.append(point)"
   ]
  },
  {
   "cell_type": "code",
   "execution_count": null,
   "id": "close-clear",
   "metadata": {},
   "outputs": [],
   "source": [
    "df_street_light['geometry'] = points_st"
   ]
  },
  {
   "cell_type": "code",
   "execution_count": null,
   "id": "above-stopping",
   "metadata": {},
   "outputs": [],
   "source": [
    "suwon_grid['streetlight_cnt'] = 0"
   ]
  },
  {
   "cell_type": "code",
   "execution_count": null,
   "id": "external-interview",
   "metadata": {},
   "outputs": [],
   "source": [
    "for i in tqdm(range(0, len(df_street_light))):\n",
    "    for j in range(0, len(suwon_grid)):\n",
    "        if df_street_light['geometry'][i].within(df_gid['geometry'][j]):\n",
    "            suwon_grid['streetlight_cnt'][j] = suwon_grid['streetlight_cnt'][j] + df_street_light['streetlight_cnt'][i]"
   ]
  },
  {
   "cell_type": "markdown",
   "id": "recognized-handy",
   "metadata": {},
   "source": [
    "### 격자별 신고수"
   ]
  },
  {
   "cell_type": "code",
   "execution_count": null,
   "id": "impaired-challenge",
   "metadata": {},
   "outputs": [],
   "source": [
    "GetCompasData('SBJ_2109_001', '2', '2.수원시_112신고(격자별 신고횟수).geojson')\n",
    "report_cnt = gpd.read_file('2.수원시_112신고(격자별 신고횟수).geojson')"
   ]
  },
  {
   "cell_type": "code",
   "execution_count": null,
   "id": "enabling-heating",
   "metadata": {},
   "outputs": [],
   "source": [
    "suwon_grid = pd.merge(suwon_grid, report_cnt, on='gid')"
   ]
  },
  {
   "cell_type": "markdown",
   "id": "square-service",
   "metadata": {},
   "source": [
    "### 격자별 인구수"
   ]
  },
  {
   "cell_type": "code",
   "execution_count": null,
   "id": "exclusive-turtle",
   "metadata": {},
   "outputs": [],
   "source": [
    "GetCompasData('SBJ_2109_001', '30', '30.수원시_성연령별_거주인구격자(250M_X_250M).geojson')\n",
    "grid_pop = gpd.read_file('30.수원시_성연령별_거주인구격자(250M_X_250M).geojson')"
   ]
  },
  {
   "cell_type": "code",
   "execution_count": null,
   "id": "dominican-worse",
   "metadata": {},
   "outputs": [],
   "source": [
    "grid_pop.fillna(0, inplace=True)"
   ]
  },
  {
   "cell_type": "code",
   "execution_count": null,
   "id": "burning-queensland",
   "metadata": {},
   "outputs": [],
   "source": [
    "grid_pop['total_pop'] = grid_pop.sum(axis=1)"
   ]
  },
  {
   "cell_type": "code",
   "execution_count": null,
   "id": "genuine-buddy",
   "metadata": {},
   "outputs": [],
   "source": [
    "suwon_grid = pd.merge(suwon_grid, grid_pop, on='gid')"
   ]
  },
  {
   "cell_type": "markdown",
   "id": "wrong-payday",
   "metadata": {},
   "source": [
    "최종적으로 데이터를 모아서 grid_data라는 변수명에 지정해줬습니다."
   ]
  },
  {
   "cell_type": "code",
   "execution_count": 23,
   "id": "announced-fifteen",
   "metadata": {},
   "outputs": [],
   "source": [
    "grid_data = suwon_grid.copy()"
   ]
  },
  {
   "cell_type": "markdown",
   "id": "banner-documentary",
   "metadata": {},
   "source": [
    "___"
   ]
  },
  {
   "cell_type": "markdown",
   "id": "prospective-samba",
   "metadata": {},
   "source": [
    "### 시각화"
   ]
  },
  {
   "cell_type": "code",
   "execution_count": 22,
   "id": "textile-criterion",
   "metadata": {},
   "outputs": [],
   "source": [
    "def fix_font():\n",
    "    # From https://HC.Dle.pw, By Jinseo Kim\n",
    "    # v1.0.0\n",
    "    import os\n",
    "    import matplotlib as mpl\n",
    "    import matplotlib.pyplot as plt\n",
    "    os.system(\"apt-get install -y fonts-nanum\")\n",
    "    os.system(\"fc-cache -fv\")\n",
    "    mpl.font_manager._rebuild()\n",
    "    findfont = mpl.font_manager.fontManager.findfont\n",
    "    mpl.font_manager.findfont = findfont\n",
    "    mpl.backends.backend_agg.findfont = findfont\n",
    "    plt.rcParams['font.family'] = \"NanumBarunGothic\"\n",
    "    plt.rcParams['axes.unicode_minus'] = False\n",
    "           \n",
    "fix_font()"
   ]
  },
  {
   "cell_type": "code",
   "execution_count": 24,
   "id": "caroline-approval",
   "metadata": {},
   "outputs": [
    {
     "data": {
      "image/png": "[encoded data removed]",
      "text/plain": [
       "<Figure size 432x432 with 1 Axes>"
      ]
     },
     "metadata": {
      "needs_background": "light"
     },
     "output_type": "display_data"
    }
   ],
   "source": [
    "fig, ax = plt.subplots(figsize=(6, 6))\n",
    "sns.scatterplot(data=grid_data, y='rep_cnt', x='bell_cnt', marker='x',\n",
    "                hue='bell_cnt', hue_norm=(-2, 2), palette=\"Greens\",\n",
    "                size='rep_cnt', sizes=(15, 300),\n",
    "                ax=ax)\n",
    "ax.set_ylabel('신고 수')\n",
    "ax.set_xlabel('안전비상벨 수')\n",
    "ax.spines[\"top\"].set_visible(False)\n",
    "ax.spines[\"right\"].set_visible(False)\n",
    "ax.spines[\"left\"].set_position((\"outward\", 10))\n",
    "ax.spines[\"left\"].set_visible(False)\n",
    "ax.spines[\"bottom\"].set_visible(False)\n",
    "ax.spines[\"bottom\"].set_position((\"outward\", 10))\n",
    "\n",
    "handle, label = ax.get_legend_handles_labels()\n",
    "new_label = ['안전비상벨 수', '0', '1', '2', '3', '4', '신고 수', '0', '800', '1600', '2400', '3200', '4000']\n",
    "ax.get_legend().remove()\n",
    "\n"
   ]
  },
  {
   "cell_type": "code",
   "execution_count": 25,
   "id": "vocational-utilization",
   "metadata": {},
   "outputs": [
    {
     "data": {
      "image/png": "[encoded data removed]",
      "text/plain": [
       "<Figure size 432x432 with 1 Axes>"
      ]
     },
     "metadata": {
      "needs_background": "light"
     },
     "output_type": "display_data"
    }
   ],
   "source": [
    "fig, ax = plt.subplots(figsize=(6, 6))\n",
    "sns.scatterplot(data=grid_data, y='rep_cnt', x='park_cnt', marker='x',\n",
    "                hue='park_cnt', hue_norm=(-2, 2), palette=\"Greens\",\n",
    "                size='rep_cnt', sizes=(15, 300),\n",
    "                ax=ax)\n",
    "ax.set_ylabel('신고 수')\n",
    "ax.set_xlabel('공원 수')\n",
    "ax.spines[\"top\"].set_visible(False)\n",
    "ax.spines[\"right\"].set_visible(False)\n",
    "ax.spines[\"left\"].set_position((\"outward\", 10))\n",
    "ax.spines[\"left\"].set_visible(False)\n",
    "ax.spines[\"bottom\"].set_visible(False)\n",
    "ax.spines[\"bottom\"].set_position((\"outward\", 10))\n",
    "\n",
    "handle, label = ax.get_legend_handles_labels()\n",
    "new_label = ['공원 수', '0', '1', '2', '3', '4', '신고 수', '0', '800', '1600', '2400', '3200', '4000']\n",
    "ax.get_legend().remove()\n",
    "\n"
   ]
  },
  {
   "cell_type": "code",
   "execution_count": 26,
   "id": "generous-rubber",
   "metadata": {},
   "outputs": [
    {
     "data": {
      "image/png": "[encoded data removed]",
      "text/plain": [
       "<Figure size 432x432 with 1 Axes>"
      ]
     },
     "metadata": {
      "needs_background": "light"
     },
     "output_type": "display_data"
    }
   ],
   "source": [
    "fig, ax = plt.subplots(figsize=(6, 6))\n",
    "sns.scatterplot(data=grid_data, y='rep_cnt', x='womanpost_cnt', marker='x',\n",
    "                hue='womanpost_cnt', palette=\"Set1\",\n",
    "                size='rep_cnt', sizes=(15, 300),\n",
    "                ax=ax)\n",
    "ax.set_ylabel('신고 수')\n",
    "ax.set_xlabel('여성 안심택배함 수')\n",
    "ax.spines[\"top\"].set_visible(False)\n",
    "ax.spines[\"right\"].set_visible(False)\n",
    "ax.spines[\"left\"].set_position((\"outward\", 10))\n",
    "ax.spines[\"left\"].set_visible(False)\n",
    "ax.spines[\"bottom\"].set_visible(False)\n",
    "ax.spines[\"bottom\"].set_position((\"outward\", 10))\n",
    "\n",
    "handle, label = ax.get_legend_handles_labels()\n",
    "new_label = ['여성 안심택배함 수', '0', '1', '신고 수', '0', '800', '1600', '2400', '3200', '4000']\n",
    "ax.get_legend().remove()\n",
    "\n"
   ]
  },
  {
   "cell_type": "code",
   "execution_count": 27,
   "id": "everyday-crazy",
   "metadata": {
    "scrolled": true
   },
   "outputs": [
    {
     "data": {
      "image/png": "[encoded data removed]",
      "text/plain": [
       "<Figure size 432x432 with 1 Axes>"
      ]
     },
     "metadata": {
      "needs_background": "light"
     },
     "output_type": "display_data"
    }
   ],
   "source": [
    "fig, ax = plt.subplots(figsize=(6, 6))\n",
    "sns.scatterplot(data=grid_data, y='rep_cnt', x='patrol_cnt', marker='x',\n",
    "                hue='patrol_cnt', hue_norm=(-2, 2), palette=\"Blues\",\n",
    "                size='rep_cnt', sizes=(15, 350),\n",
    "                ax=ax)\n",
    "ax.set_ylabel('신고 수')\n",
    "ax.set_xlabel('치안센터(파출소, 지구대, 순찰대) 수')\n",
    "ax.spines[\"top\"].set_visible(False)\n",
    "ax.spines[\"right\"].set_visible(False)\n",
    "ax.spines[\"left\"].set_position((\"outward\", 10))\n",
    "ax.spines[\"left\"].set_visible(False)\n",
    "ax.spines[\"bottom\"].set_visible(False)\n",
    "ax.spines[\"bottom\"].set_position((\"outward\", 10))\n",
    "\n",
    "handle, label = ax.get_legend_handles_labels()\n",
    "new_label = ['치안센터(파출소, 지구대, 순찰대) 수', '0', '1', '2', '3', '4', '신고 수', '0', '800', '1600', '2400', '3200', '4000']\n",
    "ax.get_legend().remove()\n",
    "\n"
   ]
  },
  {
   "cell_type": "markdown",
   "id": "radio-beauty",
   "metadata": {},
   "source": [
    "### CCTV, 가로등, 보안등 수 - 카테고리화\n",
    "CCTV, 가로등, 보안등 수는 갯수가 많아 카테고리화 해서 산점도를 그려보겠습니다."
   ]
  },
  {
   "cell_type": "code",
   "execution_count": 29,
   "id": "angry-midnight",
   "metadata": {},
   "outputs": [],
   "source": [
    "df_cctv = grid_data[['gid','cctv_cnt', 'rep_cnt']]\n",
    "df_streetlight = grid_data[['gid', 'streetlight_cnt', 'rep_cnt']]\n",
    "df_securitylight = grid_data[['gid', 'securitylight_cnt', 'rep_cnt']]"
   ]
  },
  {
   "cell_type": "code",
   "execution_count": 30,
   "id": "brutal-brick",
   "metadata": {},
   "outputs": [],
   "source": [
    "df_cctv['cctv_category'] = pd.cut(df_cctv['cctv_cnt'], 5, duplicates='drop', labels=False)\n",
    "df_securitylight['sec_category'] = pd.cut(df_securitylight['securitylight_cnt'], 5, duplicates='drop', labels=False)\n",
    "df_streetlight['st_category'] = pd.cut(df_streetlight['streetlight_cnt'], 5, duplicates='drop', labels=False)"
   ]
  },
  {
   "cell_type": "code",
   "execution_count": 31,
   "id": "inclusive-camping",
   "metadata": {},
   "outputs": [
    {
     "data": {
      "image/png": "[encoded data removed]",
      "text/plain": [
       "<Figure size 432x432 with 1 Axes>"
      ]
     },
     "metadata": {
      "needs_background": "light"
     },
     "output_type": "display_data"
    }
   ],
   "source": [
    "fig, ax = plt.subplots(figsize=(6, 6))\n",
    "sns.scatterplot(data=df_cctv, y='rep_cnt', x='cctv_category', marker='x',\n",
    "                hue='cctv_category', hue_norm=(-3, 2), palette=\"Greens\",\n",
    "                size='rep_cnt', sizes=(15, 250),\n",
    "                ax=ax)\n",
    "ax.set_ylabel('신고 수', fontsize=12)\n",
    "ax.set_xlabel('CCTV 단계', fontsize=12)\n",
    "\n",
    "ax.spines[\"top\"].set_visible(False)\n",
    "ax.spines[\"right\"].set_visible(False)\n",
    "ax.spines[\"left\"].set_position((\"outward\", 10))\n",
    "ax.spines[\"left\"].set_visible(False)\n",
    "ax.spines[\"bottom\"].set_visible(False)\n",
    "ax.spines[\"bottom\"].set_position((\"outward\", 10))\n",
    "\n",
    "ax.get_legend().remove()"
   ]
  },
  {
   "cell_type": "code",
   "execution_count": 32,
   "id": "selected-tumor",
   "metadata": {},
   "outputs": [
    {
     "data": {
      "image/png": "[encoded data removed]",
      "text/plain": [
       "<Figure size 432x432 with 1 Axes>"
      ]
     },
     "metadata": {
      "needs_background": "light"
     },
     "output_type": "display_data"
    }
   ],
   "source": [
    "fig, ax = plt.subplots(figsize=(6, 6))\n",
    "sns.scatterplot(data=df_securitylight, y='rep_cnt', x='sec_category', marker='x',\n",
    "                hue='sec_category', hue_norm=(-3, 2), palette=\"Greens\",\n",
    "                size='rep_cnt', sizes=(15, 250),\n",
    "                ax=ax)\n",
    "ax.set_ylabel('신고 수', fontsize=12)\n",
    "ax.set_xlabel('보안등 단계', fontsize=12)\n",
    "\n",
    "ax.spines[\"top\"].set_visible(False)\n",
    "ax.spines[\"right\"].set_visible(False)\n",
    "ax.spines[\"left\"].set_position((\"outward\", 10))\n",
    "ax.spines[\"left\"].set_visible(False)\n",
    "ax.spines[\"bottom\"].set_visible(False)\n",
    "ax.spines[\"bottom\"].set_position((\"outward\", 10))\n",
    "\n",
    "ax.get_legend().remove()\n",
    "\n"
   ]
  },
  {
   "cell_type": "code",
   "execution_count": 33,
   "id": "coral-southwest",
   "metadata": {},
   "outputs": [
    {
     "data": {
      "image/png": "[encoded data removed]",
      "text/plain": [
       "<Figure size 432x432 with 1 Axes>"
      ]
     },
     "metadata": {
      "needs_background": "light"
     },
     "output_type": "display_data"
    }
   ],
   "source": [
    "fig, ax = plt.subplots(figsize=(6, 6))\n",
    "sns.scatterplot(data=df_streetlight, y='rep_cnt', x='st_category', marker='x',\n",
    "                hue='st_category', hue_norm=(-3, 2), palette=\"Greens\",\n",
    "                size='rep_cnt', sizes=(15, 250),\n",
    "                ax=ax)\n",
    "ax.set_ylabel('신고 수', fontsize=12)\n",
    "ax.set_xlabel('가로등 단계', fontsize=12)\n",
    "\n",
    "ax.spines[\"top\"].set_visible(False)\n",
    "ax.spines[\"right\"].set_visible(False)\n",
    "ax.spines[\"left\"].set_position((\"outward\", 10))\n",
    "ax.spines[\"left\"].set_visible(False)\n",
    "ax.spines[\"bottom\"].set_visible(False)\n",
    "ax.spines[\"bottom\"].set_position((\"outward\", 10))\n",
    "\n",
    "ax.get_legend().remove()\n",
    "\n",
    "plt.savefig('streetlight_sample.png', transparent=True)\n"
   ]
  },
  {
   "cell_type": "code",
   "execution_count": null,
   "id": "experimental-healing",
   "metadata": {},
   "outputs": [],
   "source": []
  }
 ],
 "metadata": {
  "kernelspec": {
   "display_name": "Python 3",
   "language": "python",
   "name": "python3"
  },
  "language_info": {
   "codemirror_mode": {
    "name": "ipython",
    "version": 3
   },
   "file_extension": ".py",
   "mimetype": "text/x-python",
   "name": "python",
   "nbconvert_exporter": "python",
   "pygments_lexer": "ipython3",
   "version": "3.6.9"
  }
 },
 "nbformat": 4,
 "nbformat_minor": 5
}
