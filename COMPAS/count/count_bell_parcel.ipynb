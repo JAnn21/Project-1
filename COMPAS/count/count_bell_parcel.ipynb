{
 "cells": [
  {
   "cell_type": "code",
   "execution_count": null,
   "id": "packed-logistics",
   "metadata": {},
   "outputs": [],
   "source": [
    "l = './31.수원시_행정경계(읍면동).geojson'\n",
    "h = './23.4개시도_안전비상벨현황.geojson'\n",
    "m = './32.수원시_표준격자(250M_x_250M).geojson'"
   ]
  },
  {
   "cell_type": "code",
   "execution_count": null,
   "id": "outdoor-russell",
   "metadata": {},
   "outputs": [],
   "source": [
    "행정경계 = gpd.read_file(l)\n",
    "비상벨 = gpd.read_file(h)\n",
    "표준격자 = gpd.read_file(m)"
   ]
  },
  {
   "cell_type": "markdown",
   "id": "given-rover",
   "metadata": {},
   "source": [
    "### 1. 수원시 격자별 비상벨 count"
   ]
  },
  {
   "cell_type": "code",
   "execution_count": null,
   "id": "spatial-computer",
   "metadata": {},
   "outputs": [],
   "source": [
    "비상벨[\"bell_us\"].unique()"
   ]
  },
  {
   "cell_type": "code",
   "execution_count": null,
   "id": "confused-partnership",
   "metadata": {},
   "outputs": [],
   "source": [
    "#비상벨 null값 확인\n",
    "비상벨.isnull().sum()"
   ]
  },
  {
   "cell_type": "code",
   "execution_count": null,
   "id": "catholic-sullivan",
   "metadata": {},
   "outputs": [],
   "source": [
    "##수원비상벨만 indexing\n",
    "\n",
    "suwon_lst = []\n",
    "\n",
    "for k, v in 비상벨.iterrows():\n",
    "    for geo in 행정경계[\"geometry\"]:\n",
    "        po = v[\"geometry\"]\n",
    "        if po.within(geo) == True:\n",
    "            suwon_lst.append(k)\n",
    "\n",
    "suwon_lst    "
   ]
  },
  {
   "cell_type": "code",
   "execution_count": null,
   "id": "arbitrary-tiffany",
   "metadata": {},
   "outputs": [],
   "source": [
    "#수원경계 안에 있는 비상벨만 저장\n",
    "수원비상벨 = 비상벨.loc[suwon_lst]"
   ]
  },
  {
   "cell_type": "code",
   "execution_count": null,
   "id": "starting-petite",
   "metadata": {},
   "outputs": [],
   "source": [
    "print(\"수원비상벨 개수:\"+str(수원비상벨.shape[0]))\n",
    "print(표준격자[\"bell_cnt\"].sum())"
   ]
  },
  {
   "cell_type": "code",
   "execution_count": null,
   "id": "reflected-memorial",
   "metadata": {},
   "outputs": [],
   "source": [
    "표준격자[\"bell_cnt\"] = 0\n",
    "bell_idx = []\n",
    "\n",
    "#표준격자 내에 존재하는 데이터만 count\n",
    "for k, v in 수원비상벨.iterrows(): #위치 좌표 데이터\n",
    "    for num, i in 표준격자.iterrows(): #수원 표준격자 데이터\n",
    "        grid = i[\"geometry\"]\n",
    "        po = v[\"geometry\"]\n",
    "        if po.within(grid) == True:\n",
    "            bell_idx.append(k)\n",
    "            print(num)\n",
    "            표준격자[\"bell_cnt\"][num] += 1\n",
    "        \n",
    "bell_idx"
   ]
  },
  {
   "cell_type": "markdown",
   "id": "equivalent-diesel",
   "metadata": {},
   "source": [
    "### 2. 수원시 여성안심택배 count"
   ]
  },
  {
   "cell_type": "code",
   "execution_count": null,
   "id": "missing-holder",
   "metadata": {},
   "outputs": [],
   "source": [
    "수원_여성안심택배 = pd.read_csv('./20.수원시_여성안심택배함현황.csv')"
   ]
  },
  {
   "cell_type": "code",
   "execution_count": null,
   "id": "automotive-furniture",
   "metadata": {},
   "outputs": [],
   "source": [
    "#표준격자에 안심택배를 넣을 column 생성\n",
    "표준격자[\"parcel_cnt\"] = 0\n",
    "\n",
    "for k, v in 수원_여성안심택배.iterrows(): #위치 좌표 데이터\n",
    "    for num, i in 표준격자.iterrows(): #수원 표준격자 데이터\n",
    "        grid = i[\"geometry\"]\n",
    "        po = Point([v['lon'], v['lat']])\n",
    "        if po.within(grid) == True:          \n",
    "            print(num)\n",
    "            표준격자[\"parcel_cnt\"][num] += 1\n",
    "        \n",
    "표준격자"
   ]
  },
  {
   "cell_type": "code",
   "execution_count": null,
   "id": "quick-silver",
   "metadata": {},
   "outputs": [],
   "source": [
    "print(\"여성안심택배개수:\"+str(수원_여성안심택배.shape[0]))\n",
    "print(len(표준격자[표준격자[\"parcel_cnt\"].astype('int') > 0]))"
   ]
  }
 ],
 "metadata": {
  "kernelspec": {
   "display_name": "Python 3",
   "language": "python",
   "name": "python3"
  },
  "language_info": {
   "codemirror_mode": {
    "name": "ipython",
    "version": 3
   },
   "file_extension": ".py",
   "mimetype": "text/x-python",
   "name": "python",
   "nbconvert_exporter": "python",
   "pygments_lexer": "ipython3",
   "version": "3.6.9"
  }
 },
 "nbformat": 4,
 "nbformat_minor": 5
}
