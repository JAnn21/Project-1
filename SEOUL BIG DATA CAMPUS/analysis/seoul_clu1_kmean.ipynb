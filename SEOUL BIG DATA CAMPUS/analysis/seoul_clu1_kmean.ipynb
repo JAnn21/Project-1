{
 "cells": [
  {
   "cell_type": "code",
   "execution_count": 128,
   "metadata": {},
   "outputs": [],
   "source": [
    "# library\n",
    "from sklearn import datasets\n",
    "import matplotlib.pyplot as plt\n",
    "import pandas as pd\n",
    "import numpy as np\n",
    "\n",
    "from IPython.core.interactiveshell import InteractiveShell \n",
    "InteractiveShell.ast_node_interactivity = \"all\"\n",
    "import hangul_font\n",
    "import warnings\n",
    "warnings.filterwarnings(action='ignore')\n",
    "\n",
    "from sklearn.metrics import silhouette_score\n",
    "from sklearn import preprocessing\n"
   ]
  },
  {
   "cell_type": "code",
   "execution_count": 131,
   "metadata": {},
   "outputs": [
    {
     "data": {
      "text/html": [
       "<div>\n",
       "<style scoped>\n",
       "    .dataframe tbody tr th:only-of-type {\n",
       "        vertical-align: middle;\n",
       "    }\n",
       "\n",
       "    .dataframe tbody tr th {\n",
       "        vertical-align: top;\n",
       "    }\n",
       "\n",
       "    .dataframe thead th {\n",
       "        text-align: right;\n",
       "    }\n",
       "</style>\n",
       "<table border=\"1\" class=\"dataframe\">\n",
       "  <thead>\n",
       "    <tr style=\"text-align: right;\">\n",
       "      <th></th>\n",
       "      <th>result</th>\n",
       "      <th>시군구</th>\n",
       "    </tr>\n",
       "  </thead>\n",
       "  <tbody>\n",
       "    <tr>\n",
       "      <th>0</th>\n",
       "      <td>9.192956</td>\n",
       "      <td>종로구</td>\n",
       "    </tr>\n",
       "    <tr>\n",
       "      <th>1</th>\n",
       "      <td>7.299337</td>\n",
       "      <td>중구</td>\n",
       "    </tr>\n",
       "    <tr>\n",
       "      <th>2</th>\n",
       "      <td>11.571015</td>\n",
       "      <td>용산구</td>\n",
       "    </tr>\n",
       "    <tr>\n",
       "      <th>3</th>\n",
       "      <td>9.307847</td>\n",
       "      <td>성동구</td>\n",
       "    </tr>\n",
       "    <tr>\n",
       "      <th>4</th>\n",
       "      <td>12.389070</td>\n",
       "      <td>광진구</td>\n",
       "    </tr>\n",
       "  </tbody>\n",
       "</table>\n",
       "</div>"
      ],
      "text/plain": [
       "      result  시군구\n",
       "0   9.192956  종로구\n",
       "1   7.299337   중구\n",
       "2  11.571015  용산구\n",
       "3   9.307847  성동구\n",
       "4  12.389070  광진구"
      ]
     },
     "execution_count": 131,
     "metadata": {},
     "output_type": "execute_result"
    },
    {
     "name": "stdout",
     "output_type": "stream",
     "text": [
      "<class 'pandas.core.frame.DataFrame'>\n",
      "RangeIndex: 25 entries, 0 to 24\n",
      "Data columns (total 2 columns):\n",
      " #   Column  Non-Null Count  Dtype  \n",
      "---  ------  --------------  -----  \n",
      " 0   result  25 non-null     float64\n",
      " 1   시군구     25 non-null     object \n",
      "dtypes: float64(1), object(1)\n",
      "memory usage: 528.0+ bytes\n"
     ]
    },
    {
     "data": {
      "text/html": [
       "<div>\n",
       "<style scoped>\n",
       "    .dataframe tbody tr th:only-of-type {\n",
       "        vertical-align: middle;\n",
       "    }\n",
       "\n",
       "    .dataframe tbody tr th {\n",
       "        vertical-align: top;\n",
       "    }\n",
       "\n",
       "    .dataframe thead th {\n",
       "        text-align: right;\n",
       "    }\n",
       "</style>\n",
       "<table border=\"1\" class=\"dataframe\">\n",
       "  <thead>\n",
       "    <tr style=\"text-align: right;\">\n",
       "      <th></th>\n",
       "      <th>시군구</th>\n",
       "      <th>행정동</th>\n",
       "      <th>최종지수</th>\n",
       "    </tr>\n",
       "  </thead>\n",
       "  <tbody>\n",
       "    <tr>\n",
       "      <th>0</th>\n",
       "      <td>종로구</td>\n",
       "      <td>사직동</td>\n",
       "      <td>12.171837</td>\n",
       "    </tr>\n",
       "    <tr>\n",
       "      <th>1</th>\n",
       "      <td>종로구</td>\n",
       "      <td>삼청동</td>\n",
       "      <td>8.794331</td>\n",
       "    </tr>\n",
       "    <tr>\n",
       "      <th>2</th>\n",
       "      <td>종로구</td>\n",
       "      <td>부암동</td>\n",
       "      <td>11.909092</td>\n",
       "    </tr>\n",
       "    <tr>\n",
       "      <th>3</th>\n",
       "      <td>종로구</td>\n",
       "      <td>평창동</td>\n",
       "      <td>15.632887</td>\n",
       "    </tr>\n",
       "    <tr>\n",
       "      <th>4</th>\n",
       "      <td>종로구</td>\n",
       "      <td>무악동</td>\n",
       "      <td>10.954920</td>\n",
       "    </tr>\n",
       "  </tbody>\n",
       "</table>\n",
       "</div>"
      ],
      "text/plain": [
       "   시군구  행정동       최종지수\n",
       "0  종로구  사직동  12.171837\n",
       "1  종로구  삼청동   8.794331\n",
       "2  종로구  부암동  11.909092\n",
       "3  종로구  평창동  15.632887\n",
       "4  종로구  무악동  10.954920"
      ]
     },
     "execution_count": 131,
     "metadata": {},
     "output_type": "execute_result"
    },
    {
     "name": "stdout",
     "output_type": "stream",
     "text": [
      "<class 'pandas.core.frame.DataFrame'>\n",
      "RangeIndex: 425 entries, 0 to 424\n",
      "Data columns (total 3 columns):\n",
      " #   Column  Non-Null Count  Dtype  \n",
      "---  ------  --------------  -----  \n",
      " 0   시군구     425 non-null    object \n",
      " 1   행정동     425 non-null    object \n",
      " 2   최종지수    425 non-null    float64\n",
      "dtypes: float64(1), object(2)\n",
      "memory usage: 10.1+ KB\n"
     ]
    }
   ],
   "source": [
    "# data\n",
    "df = pd.read_excel(\"seoul_gu_sco_v2.xlsx\")\n",
    "df.head()\n",
    "df.info()\n",
    "\n",
    "df2 = pd.read_csv(\"동별_지수2.csv\")\n",
    "df2.head()\n",
    "df2.info()"
   ]
  },
  {
   "cell_type": "code",
   "execution_count": 132,
   "metadata": {},
   "outputs": [
    {
     "data": {
      "text/html": [
       "<div>\n",
       "<style scoped>\n",
       "    .dataframe tbody tr th:only-of-type {\n",
       "        vertical-align: middle;\n",
       "    }\n",
       "\n",
       "    .dataframe tbody tr th {\n",
       "        vertical-align: top;\n",
       "    }\n",
       "\n",
       "    .dataframe thead th {\n",
       "        text-align: right;\n",
       "    }\n",
       "</style>\n",
       "<table border=\"1\" class=\"dataframe\">\n",
       "  <thead>\n",
       "    <tr style=\"text-align: right;\">\n",
       "      <th></th>\n",
       "      <th>result</th>\n",
       "      <th>시군구</th>\n",
       "      <th>행정동</th>\n",
       "      <th>최종지수</th>\n",
       "    </tr>\n",
       "  </thead>\n",
       "  <tbody>\n",
       "    <tr>\n",
       "      <th>0</th>\n",
       "      <td>9.192956</td>\n",
       "      <td>종로구</td>\n",
       "      <td>사직동</td>\n",
       "      <td>12.171837</td>\n",
       "    </tr>\n",
       "    <tr>\n",
       "      <th>1</th>\n",
       "      <td>9.192956</td>\n",
       "      <td>종로구</td>\n",
       "      <td>삼청동</td>\n",
       "      <td>8.794331</td>\n",
       "    </tr>\n",
       "    <tr>\n",
       "      <th>2</th>\n",
       "      <td>9.192956</td>\n",
       "      <td>종로구</td>\n",
       "      <td>부암동</td>\n",
       "      <td>11.909092</td>\n",
       "    </tr>\n",
       "    <tr>\n",
       "      <th>3</th>\n",
       "      <td>9.192956</td>\n",
       "      <td>종로구</td>\n",
       "      <td>평창동</td>\n",
       "      <td>15.632887</td>\n",
       "    </tr>\n",
       "    <tr>\n",
       "      <th>4</th>\n",
       "      <td>9.192956</td>\n",
       "      <td>종로구</td>\n",
       "      <td>무악동</td>\n",
       "      <td>10.954920</td>\n",
       "    </tr>\n",
       "    <tr>\n",
       "      <th>...</th>\n",
       "      <td>...</td>\n",
       "      <td>...</td>\n",
       "      <td>...</td>\n",
       "      <td>...</td>\n",
       "    </tr>\n",
       "    <tr>\n",
       "      <th>420</th>\n",
       "      <td>25.633619</td>\n",
       "      <td>강동구</td>\n",
       "      <td>둔촌1동</td>\n",
       "      <td>6.900000</td>\n",
       "    </tr>\n",
       "    <tr>\n",
       "      <th>421</th>\n",
       "      <td>25.633619</td>\n",
       "      <td>강동구</td>\n",
       "      <td>둔촌2동</td>\n",
       "      <td>18.653155</td>\n",
       "    </tr>\n",
       "    <tr>\n",
       "      <th>422</th>\n",
       "      <td>25.633619</td>\n",
       "      <td>강동구</td>\n",
       "      <td>암사1동</td>\n",
       "      <td>26.646641</td>\n",
       "    </tr>\n",
       "    <tr>\n",
       "      <th>423</th>\n",
       "      <td>25.633619</td>\n",
       "      <td>강동구</td>\n",
       "      <td>천호2동</td>\n",
       "      <td>27.124168</td>\n",
       "    </tr>\n",
       "    <tr>\n",
       "      <th>424</th>\n",
       "      <td>25.633619</td>\n",
       "      <td>강동구</td>\n",
       "      <td>길동</td>\n",
       "      <td>28.712029</td>\n",
       "    </tr>\n",
       "  </tbody>\n",
       "</table>\n",
       "<p>425 rows × 4 columns</p>\n",
       "</div>"
      ],
      "text/plain": [
       "        result  시군구   행정동       최종지수\n",
       "0     9.192956  종로구   사직동  12.171837\n",
       "1     9.192956  종로구   삼청동   8.794331\n",
       "2     9.192956  종로구   부암동  11.909092\n",
       "3     9.192956  종로구   평창동  15.632887\n",
       "4     9.192956  종로구   무악동  10.954920\n",
       "..         ...  ...   ...        ...\n",
       "420  25.633619  강동구  둔촌1동   6.900000\n",
       "421  25.633619  강동구  둔촌2동  18.653155\n",
       "422  25.633619  강동구  암사1동  26.646641\n",
       "423  25.633619  강동구  천호2동  27.124168\n",
       "424  25.633619  강동구    길동  28.712029\n",
       "\n",
       "[425 rows x 4 columns]"
      ]
     },
     "execution_count": 132,
     "metadata": {},
     "output_type": "execute_result"
    }
   ],
   "source": [
    "data=pd.merge(df,df2,on=\"시군구\")\n",
    "data"
   ]
  },
  {
   "cell_type": "code",
   "execution_count": 135,
   "metadata": {},
   "outputs": [],
   "source": [
    "def change_n_clusters(n_clusters, data):\n",
    "    sum_of_squared_distance = []\n",
    "    for n_cluster in n_clusters:\n",
    "        kmeans = KMeans(n_clusters=n_cluster)\n",
    "        kmeans.fit(data)\n",
    "        sum_of_squared_distance.append(kmeans.inertia_)\n",
    "        \n",
    "    plt.figure(1 , figsize = (12, 6))\n",
    "    plt.plot(n_clusters , sum_of_squared_distance , 'o')\n",
    "    plt.plot(n_clusters , sum_of_squared_distance , '-' , alpha = 0.5)\n",
    "    plt.grid()\n",
    "    plt.xlabel('Number of Clusters')\n",
    "    plt.ylabel('Inertia')"
   ]
  },
  {
   "cell_type": "code",
   "execution_count": 136,
   "metadata": {},
   "outputs": [
    {
     "data": {
      "application/javascript": "\n        if (window._pyforest_update_imports_cell) { window._pyforest_update_imports_cell('import seaborn as sns\\nfrom sklearn.cluster import KMeans'); }\n    ",
      "text/plain": [
       "<IPython.core.display.Javascript object>"
      ]
     },
     "metadata": {},
     "output_type": "display_data"
    },
    {
     "data": {
      "application/javascript": "\n        if (window._pyforest_update_imports_cell) { window._pyforest_update_imports_cell('import seaborn as sns\\nfrom sklearn.cluster import KMeans'); }\n    ",
      "text/plain": [
       "<IPython.core.display.Javascript object>"
      ]
     },
     "metadata": {},
     "output_type": "display_data"
    },
    {
     "data": {
      "application/javascript": "\n        if (window._pyforest_update_imports_cell) { window._pyforest_update_imports_cell('import seaborn as sns\\nfrom sklearn.cluster import KMeans'); }\n    ",
      "text/plain": [
       "<IPython.core.display.Javascript object>"
      ]
     },
     "metadata": {},
     "output_type": "display_data"
    },
    {
     "data": {
      "application/javascript": "\n        if (window._pyforest_update_imports_cell) { window._pyforest_update_imports_cell('import seaborn as sns\\nfrom sklearn.cluster import KMeans'); }\n    ",
      "text/plain": [
       "<IPython.core.display.Javascript object>"
      ]
     },
     "metadata": {},
     "output_type": "display_data"
    },
    {
     "data": {
      "application/javascript": "\n        if (window._pyforest_update_imports_cell) { window._pyforest_update_imports_cell('import seaborn as sns\\nfrom sklearn.cluster import KMeans'); }\n    ",
      "text/plain": [
       "<IPython.core.display.Javascript object>"
      ]
     },
     "metadata": {},
     "output_type": "display_data"
    },
    {
     "data": {
      "application/javascript": "\n        if (window._pyforest_update_imports_cell) { window._pyforest_update_imports_cell('import seaborn as sns\\nfrom sklearn.cluster import KMeans'); }\n    ",
      "text/plain": [
       "<IPython.core.display.Javascript object>"
      ]
     },
     "metadata": {},
     "output_type": "display_data"
    },
    {
     "data": {
      "application/javascript": "\n        if (window._pyforest_update_imports_cell) { window._pyforest_update_imports_cell('import seaborn as sns\\nfrom sklearn.cluster import KMeans'); }\n    ",
      "text/plain": [
       "<IPython.core.display.Javascript object>"
      ]
     },
     "metadata": {},
     "output_type": "display_data"
    },
    {
     "data": {
      "application/javascript": "\n        if (window._pyforest_update_imports_cell) { window._pyforest_update_imports_cell('import seaborn as sns\\nfrom sklearn.cluster import KMeans'); }\n    ",
      "text/plain": [
       "<IPython.core.display.Javascript object>"
      ]
     },
     "metadata": {},
     "output_type": "display_data"
    },
    {
     "data": {
      "application/javascript": "\n        if (window._pyforest_update_imports_cell) { window._pyforest_update_imports_cell('import seaborn as sns\\nfrom sklearn.cluster import KMeans'); }\n    ",
      "text/plain": [
       "<IPython.core.display.Javascript object>"
      ]
     },
     "metadata": {},
     "output_type": "display_data"
    },
    {
     "data": {
      "application/javascript": "\n        if (window._pyforest_update_imports_cell) { window._pyforest_update_imports_cell('import seaborn as sns\\nfrom sklearn.cluster import KMeans'); }\n    ",
      "text/plain": [
       "<IPython.core.display.Javascript object>"
      ]
     },
     "metadata": {},
     "output_type": "display_data"
    },
    {
     "data": {
      "application/javascript": "\n        if (window._pyforest_update_imports_cell) { window._pyforest_update_imports_cell('import seaborn as sns\\nfrom sklearn.cluster import KMeans'); }\n    ",
      "text/plain": [
       "<IPython.core.display.Javascript object>"
      ]
     },
     "metadata": {},
     "output_type": "display_data"
    },
    {
     "data": {
      "application/javascript": "\n        if (window._pyforest_update_imports_cell) { window._pyforest_update_imports_cell('import seaborn as sns\\nfrom sklearn.cluster import KMeans'); }\n    ",
      "text/plain": [
       "<IPython.core.display.Javascript object>"
      ]
     },
     "metadata": {},
     "output_type": "display_data"
    },
    {
     "data": {
      "application/javascript": "\n        if (window._pyforest_update_imports_cell) { window._pyforest_update_imports_cell('import seaborn as sns\\nfrom sklearn.cluster import KMeans'); }\n    ",
      "text/plain": [
       "<IPython.core.display.Javascript object>"
      ]
     },
     "metadata": {},
     "output_type": "display_data"
    },
    {
     "data": {
      "application/javascript": "\n        if (window._pyforest_update_imports_cell) { window._pyforest_update_imports_cell('import seaborn as sns\\nfrom sklearn.cluster import KMeans'); }\n    ",
      "text/plain": [
       "<IPython.core.display.Javascript object>"
      ]
     },
     "metadata": {},
     "output_type": "display_data"
    },
    {
     "data": {
      "application/javascript": "\n        if (window._pyforest_update_imports_cell) { window._pyforest_update_imports_cell('import seaborn as sns\\nfrom sklearn.cluster import KMeans'); }\n    ",
      "text/plain": [
       "<IPython.core.display.Javascript object>"
      ]
     },
     "metadata": {},
     "output_type": "display_data"
    },
    {
     "data": {
      "application/javascript": "\n        if (window._pyforest_update_imports_cell) { window._pyforest_update_imports_cell('import seaborn as sns\\nfrom sklearn.cluster import KMeans'); }\n    ",
      "text/plain": [
       "<IPython.core.display.Javascript object>"
      ]
     },
     "metadata": {},
     "output_type": "display_data"
    },
    {
     "data": {
      "application/javascript": "\n        if (window._pyforest_update_imports_cell) { window._pyforest_update_imports_cell('import seaborn as sns\\nfrom sklearn.cluster import KMeans'); }\n    ",
      "text/plain": [
       "<IPython.core.display.Javascript object>"
      ]
     },
     "metadata": {},
     "output_type": "display_data"
    },
    {
     "data": {
      "application/javascript": "\n        if (window._pyforest_update_imports_cell) { window._pyforest_update_imports_cell('import seaborn as sns\\nfrom sklearn.cluster import KMeans'); }\n    ",
      "text/plain": [
       "<IPython.core.display.Javascript object>"
      ]
     },
     "metadata": {},
     "output_type": "display_data"
    },
    {
     "data": {
      "image/png": "[encoded data removed]",
      "text/plain": [
       "<Figure size 864x432 with 1 Axes>"
      ]
     },
     "metadata": {
      "needs_background": "light"
     },
     "output_type": "display_data"
    }
   ],
   "source": [
    "change_n_clusters(range(2,20), data.iloc[:,[0,3]])"
   ]
  },
  {
   "cell_type": "code",
   "execution_count": 137,
   "metadata": {},
   "outputs": [
    {
     "data": {
      "text/html": [
       "<div>\n",
       "<style scoped>\n",
       "    .dataframe tbody tr th:only-of-type {\n",
       "        vertical-align: middle;\n",
       "    }\n",
       "\n",
       "    .dataframe tbody tr th {\n",
       "        vertical-align: top;\n",
       "    }\n",
       "\n",
       "    .dataframe thead th {\n",
       "        text-align: right;\n",
       "    }\n",
       "</style>\n",
       "<table border=\"1\" class=\"dataframe\">\n",
       "  <thead>\n",
       "    <tr style=\"text-align: right;\">\n",
       "      <th></th>\n",
       "      <th>result</th>\n",
       "      <th>최종지수</th>\n",
       "    </tr>\n",
       "  </thead>\n",
       "  <tbody>\n",
       "    <tr>\n",
       "      <th>0</th>\n",
       "      <td>9.192956</td>\n",
       "      <td>12.171837</td>\n",
       "    </tr>\n",
       "    <tr>\n",
       "      <th>1</th>\n",
       "      <td>9.192956</td>\n",
       "      <td>8.794331</td>\n",
       "    </tr>\n",
       "    <tr>\n",
       "      <th>2</th>\n",
       "      <td>9.192956</td>\n",
       "      <td>11.909092</td>\n",
       "    </tr>\n",
       "    <tr>\n",
       "      <th>3</th>\n",
       "      <td>9.192956</td>\n",
       "      <td>15.632887</td>\n",
       "    </tr>\n",
       "    <tr>\n",
       "      <th>4</th>\n",
       "      <td>9.192956</td>\n",
       "      <td>10.954920</td>\n",
       "    </tr>\n",
       "    <tr>\n",
       "      <th>...</th>\n",
       "      <td>...</td>\n",
       "      <td>...</td>\n",
       "    </tr>\n",
       "    <tr>\n",
       "      <th>420</th>\n",
       "      <td>25.633619</td>\n",
       "      <td>6.900000</td>\n",
       "    </tr>\n",
       "    <tr>\n",
       "      <th>421</th>\n",
       "      <td>25.633619</td>\n",
       "      <td>18.653155</td>\n",
       "    </tr>\n",
       "    <tr>\n",
       "      <th>422</th>\n",
       "      <td>25.633619</td>\n",
       "      <td>26.646641</td>\n",
       "    </tr>\n",
       "    <tr>\n",
       "      <th>423</th>\n",
       "      <td>25.633619</td>\n",
       "      <td>27.124168</td>\n",
       "    </tr>\n",
       "    <tr>\n",
       "      <th>424</th>\n",
       "      <td>25.633619</td>\n",
       "      <td>28.712029</td>\n",
       "    </tr>\n",
       "  </tbody>\n",
       "</table>\n",
       "<p>425 rows × 2 columns</p>\n",
       "</div>"
      ],
      "text/plain": [
       "        result       최종지수\n",
       "0     9.192956  12.171837\n",
       "1     9.192956   8.794331\n",
       "2     9.192956  11.909092\n",
       "3     9.192956  15.632887\n",
       "4     9.192956  10.954920\n",
       "..         ...        ...\n",
       "420  25.633619   6.900000\n",
       "421  25.633619  18.653155\n",
       "422  25.633619  26.646641\n",
       "423  25.633619  27.124168\n",
       "424  25.633619  28.712029\n",
       "\n",
       "[425 rows x 2 columns]"
      ]
     },
     "execution_count": 137,
     "metadata": {},
     "output_type": "execute_result"
    }
   ],
   "source": [
    "df_clu=data.iloc[:,[0,3]]\n",
    "df_clu"
   ]
  },
  {
   "cell_type": "code",
   "execution_count": 138,
   "metadata": {},
   "outputs": [
    {
     "data": {
      "application/javascript": "\n        if (window._pyforest_update_imports_cell) { window._pyforest_update_imports_cell('import seaborn as sns\\nfrom sklearn.cluster import KMeans'); }\n    ",
      "text/plain": [
       "<IPython.core.display.Javascript object>"
      ]
     },
     "metadata": {},
     "output_type": "display_data"
    },
    {
     "data": {
      "text/plain": [
       "<Figure size 864x432 with 0 Axes>"
      ]
     },
     "execution_count": 138,
     "metadata": {},
     "output_type": "execute_result"
    },
    {
     "data": {
      "application/javascript": "\n        if (window._pyforest_update_imports_cell) { window._pyforest_update_imports_cell('import seaborn as sns\\nfrom sklearn.cluster import KMeans'); }\n    ",
      "text/plain": [
       "<IPython.core.display.Javascript object>"
      ]
     },
     "metadata": {},
     "output_type": "display_data"
    },
    {
     "data": {
      "text/plain": [
       "<AxesSubplot:xlabel='result', ylabel='최종지수'>"
      ]
     },
     "execution_count": 138,
     "metadata": {},
     "output_type": "execute_result"
    },
    {
     "data": {
      "text/plain": [
       "Text(0.5, 1.0, 'KMeans Clustering')"
      ]
     },
     "execution_count": 138,
     "metadata": {},
     "output_type": "execute_result"
    },
    {
     "data": {
      "text/plain": [
       "<matplotlib.legend.Legend at 0x23a359aad30>"
      ]
     },
     "execution_count": 138,
     "metadata": {},
     "output_type": "execute_result"
    },
    {
     "data": {
      "image/png": "[encoded data removed]",
      "text/plain": [
       "<Figure size 864x432 with 1 Axes>"
      ]
     },
     "metadata": {
      "needs_background": "light"
     },
     "output_type": "display_data"
    }
   ],
   "source": [
    "km = KMeans(n_clusters=7)\n",
    "\n",
    "cluster = km.fit(df_clu)\n",
    "\n",
    "cluster_id = pd.DataFrame(cluster.labels_)\n",
    "\n",
    "d1 = pd.concat([df_clu, cluster_id], axis=1)\n",
    "\n",
    "d1.columns = [\"result\", \"최종지수\", \"labels\"]\n",
    "plt.figure(1 , figsize = (12, 6))\n",
    "sns.scatterplot(d1[\"result\"], d1[\"최종지수\"], hue = d1['labels'], legend=\"full\", palette=\"bright\")\n",
    "\n",
    "plt.title(\"KMeans Clustering\")\n",
    "\n",
    "plt.legend()\n",
    "plt.show()"
   ]
  },
  {
   "cell_type": "code",
   "execution_count": 139,
   "metadata": {},
   "outputs": [
    {
     "data": {
      "text/html": [
       "<div>\n",
       "<style scoped>\n",
       "    .dataframe tbody tr th:only-of-type {\n",
       "        vertical-align: middle;\n",
       "    }\n",
       "\n",
       "    .dataframe tbody tr th {\n",
       "        vertical-align: top;\n",
       "    }\n",
       "\n",
       "    .dataframe thead th {\n",
       "        text-align: right;\n",
       "    }\n",
       "</style>\n",
       "<table border=\"1\" class=\"dataframe\">\n",
       "  <thead>\n",
       "    <tr style=\"text-align: right;\">\n",
       "      <th></th>\n",
       "      <th>result</th>\n",
       "      <th>최종지수</th>\n",
       "      <th>labels</th>\n",
       "      <th>행정동</th>\n",
       "      <th>시군구</th>\n",
       "    </tr>\n",
       "  </thead>\n",
       "  <tbody>\n",
       "    <tr>\n",
       "      <th>0</th>\n",
       "      <td>9.192956</td>\n",
       "      <td>12.171837</td>\n",
       "      <td>0</td>\n",
       "      <td>사직동</td>\n",
       "      <td>종로구</td>\n",
       "    </tr>\n",
       "    <tr>\n",
       "      <th>1</th>\n",
       "      <td>9.192956</td>\n",
       "      <td>8.794331</td>\n",
       "      <td>0</td>\n",
       "      <td>삼청동</td>\n",
       "      <td>종로구</td>\n",
       "    </tr>\n",
       "    <tr>\n",
       "      <th>2</th>\n",
       "      <td>9.192956</td>\n",
       "      <td>11.909092</td>\n",
       "      <td>0</td>\n",
       "      <td>부암동</td>\n",
       "      <td>종로구</td>\n",
       "    </tr>\n",
       "    <tr>\n",
       "      <th>3</th>\n",
       "      <td>9.192956</td>\n",
       "      <td>15.632887</td>\n",
       "      <td>0</td>\n",
       "      <td>평창동</td>\n",
       "      <td>종로구</td>\n",
       "    </tr>\n",
       "    <tr>\n",
       "      <th>4</th>\n",
       "      <td>9.192956</td>\n",
       "      <td>10.954920</td>\n",
       "      <td>0</td>\n",
       "      <td>무악동</td>\n",
       "      <td>종로구</td>\n",
       "    </tr>\n",
       "    <tr>\n",
       "      <th>...</th>\n",
       "      <td>...</td>\n",
       "      <td>...</td>\n",
       "      <td>...</td>\n",
       "      <td>...</td>\n",
       "      <td>...</td>\n",
       "    </tr>\n",
       "    <tr>\n",
       "      <th>420</th>\n",
       "      <td>25.633619</td>\n",
       "      <td>6.900000</td>\n",
       "      <td>4</td>\n",
       "      <td>둔촌1동</td>\n",
       "      <td>강동구</td>\n",
       "    </tr>\n",
       "    <tr>\n",
       "      <th>421</th>\n",
       "      <td>25.633619</td>\n",
       "      <td>18.653155</td>\n",
       "      <td>4</td>\n",
       "      <td>둔촌2동</td>\n",
       "      <td>강동구</td>\n",
       "    </tr>\n",
       "    <tr>\n",
       "      <th>422</th>\n",
       "      <td>25.633619</td>\n",
       "      <td>26.646641</td>\n",
       "      <td>1</td>\n",
       "      <td>암사1동</td>\n",
       "      <td>강동구</td>\n",
       "    </tr>\n",
       "    <tr>\n",
       "      <th>423</th>\n",
       "      <td>25.633619</td>\n",
       "      <td>27.124168</td>\n",
       "      <td>1</td>\n",
       "      <td>천호2동</td>\n",
       "      <td>강동구</td>\n",
       "    </tr>\n",
       "    <tr>\n",
       "      <th>424</th>\n",
       "      <td>25.633619</td>\n",
       "      <td>28.712029</td>\n",
       "      <td>1</td>\n",
       "      <td>길동</td>\n",
       "      <td>강동구</td>\n",
       "    </tr>\n",
       "  </tbody>\n",
       "</table>\n",
       "<p>425 rows × 5 columns</p>\n",
       "</div>"
      ],
      "text/plain": [
       "        result       최종지수  labels   행정동  시군구\n",
       "0     9.192956  12.171837       0   사직동  종로구\n",
       "1     9.192956   8.794331       0   삼청동  종로구\n",
       "2     9.192956  11.909092       0   부암동  종로구\n",
       "3     9.192956  15.632887       0   평창동  종로구\n",
       "4     9.192956  10.954920       0   무악동  종로구\n",
       "..         ...        ...     ...   ...  ...\n",
       "420  25.633619   6.900000       4  둔촌1동  강동구\n",
       "421  25.633619  18.653155       4  둔촌2동  강동구\n",
       "422  25.633619  26.646641       1  암사1동  강동구\n",
       "423  25.633619  27.124168       1  천호2동  강동구\n",
       "424  25.633619  28.712029       1    길동  강동구\n",
       "\n",
       "[425 rows x 5 columns]"
      ]
     },
     "execution_count": 139,
     "metadata": {},
     "output_type": "execute_result"
    }
   ],
   "source": [
    "result1=pd.concat([d1,data[[\"행정동\",\"시군구\"]]],axis=1)\n",
    "result1"
   ]
  },
  {
   "cell_type": "code",
   "execution_count": 141,
   "metadata": {},
   "outputs": [
    {
     "data": {
      "text/plain": [
       "6    84\n",
       "0    80\n",
       "4    70\n",
       "3    69\n",
       "1    45\n",
       "2    42\n",
       "5    35\n",
       "Name: labels, dtype: int64"
      ]
     },
     "execution_count": 141,
     "metadata": {},
     "output_type": "execute_result"
    }
   ],
   "source": [
    "result1[\"labels\"].value_counts()"
   ]
  },
  {
   "cell_type": "code",
   "execution_count": 142,
   "metadata": {},
   "outputs": [
    {
     "data": {
      "text/html": [
       "<div>\n",
       "<style scoped>\n",
       "    .dataframe tbody tr th:only-of-type {\n",
       "        vertical-align: middle;\n",
       "    }\n",
       "\n",
       "    .dataframe tbody tr th {\n",
       "        vertical-align: top;\n",
       "    }\n",
       "\n",
       "    .dataframe thead th {\n",
       "        text-align: right;\n",
       "    }\n",
       "</style>\n",
       "<table border=\"1\" class=\"dataframe\">\n",
       "  <thead>\n",
       "    <tr style=\"text-align: right;\">\n",
       "      <th></th>\n",
       "      <th>result</th>\n",
       "      <th>최종지수</th>\n",
       "    </tr>\n",
       "    <tr>\n",
       "      <th>labels</th>\n",
       "      <th></th>\n",
       "      <th></th>\n",
       "    </tr>\n",
       "  </thead>\n",
       "  <tbody>\n",
       "    <tr>\n",
       "      <th>0</th>\n",
       "      <td>10.044502</td>\n",
       "      <td>12.652374</td>\n",
       "    </tr>\n",
       "    <tr>\n",
       "      <th>1</th>\n",
       "      <td>21.674010</td>\n",
       "      <td>28.191430</td>\n",
       "    </tr>\n",
       "    <tr>\n",
       "      <th>2</th>\n",
       "      <td>15.975424</td>\n",
       "      <td>13.980128</td>\n",
       "    </tr>\n",
       "    <tr>\n",
       "      <th>3</th>\n",
       "      <td>20.847511</td>\n",
       "      <td>20.565894</td>\n",
       "    </tr>\n",
       "    <tr>\n",
       "      <th>4</th>\n",
       "      <td>22.975808</td>\n",
       "      <td>14.985206</td>\n",
       "    </tr>\n",
       "    <tr>\n",
       "      <th>5</th>\n",
       "      <td>13.871434</td>\n",
       "      <td>24.880188</td>\n",
       "    </tr>\n",
       "    <tr>\n",
       "      <th>6</th>\n",
       "      <td>12.620966</td>\n",
       "      <td>17.741102</td>\n",
       "    </tr>\n",
       "  </tbody>\n",
       "</table>\n",
       "</div>"
      ],
      "text/plain": [
       "           result       최종지수\n",
       "labels                      \n",
       "0       10.044502  12.652374\n",
       "1       21.674010  28.191430\n",
       "2       15.975424  13.980128\n",
       "3       20.847511  20.565894\n",
       "4       22.975808  14.985206\n",
       "5       13.871434  24.880188\n",
       "6       12.620966  17.741102"
      ]
     },
     "execution_count": 142,
     "metadata": {},
     "output_type": "execute_result"
    }
   ],
   "source": [
    "pd.pivot_table(data=result1,index = 'labels',aggfunc='mean')"
   ]
  },
  {
   "cell_type": "code",
   "execution_count": 143,
   "metadata": {},
   "outputs": [
    {
     "data": {
      "text/html": [
       "<div>\n",
       "<style scoped>\n",
       "    .dataframe tbody tr th:only-of-type {\n",
       "        vertical-align: middle;\n",
       "    }\n",
       "\n",
       "    .dataframe tbody tr th {\n",
       "        vertical-align: top;\n",
       "    }\n",
       "\n",
       "    .dataframe thead th {\n",
       "        text-align: right;\n",
       "    }\n",
       "</style>\n",
       "<table border=\"1\" class=\"dataframe\">\n",
       "  <thead>\n",
       "    <tr style=\"text-align: right;\">\n",
       "      <th></th>\n",
       "      <th>result</th>\n",
       "      <th>최종지수</th>\n",
       "      <th>labels</th>\n",
       "      <th>행정동</th>\n",
       "      <th>시군구</th>\n",
       "    </tr>\n",
       "  </thead>\n",
       "  <tbody>\n",
       "    <tr>\n",
       "      <th>95</th>\n",
       "      <td>22.502530</td>\n",
       "      <td>21.854096</td>\n",
       "      <td>3</td>\n",
       "      <td>면목4동</td>\n",
       "      <td>중랑구</td>\n",
       "    </tr>\n",
       "    <tr>\n",
       "      <th>97</th>\n",
       "      <td>22.502530</td>\n",
       "      <td>19.713438</td>\n",
       "      <td>3</td>\n",
       "      <td>면목7동</td>\n",
       "      <td>중랑구</td>\n",
       "    </tr>\n",
       "    <tr>\n",
       "      <th>98</th>\n",
       "      <td>22.502530</td>\n",
       "      <td>19.984666</td>\n",
       "      <td>3</td>\n",
       "      <td>상봉1동</td>\n",
       "      <td>중랑구</td>\n",
       "    </tr>\n",
       "    <tr>\n",
       "      <th>102</th>\n",
       "      <td>22.502530</td>\n",
       "      <td>23.379482</td>\n",
       "      <td>3</td>\n",
       "      <td>묵1동</td>\n",
       "      <td>중랑구</td>\n",
       "    </tr>\n",
       "    <tr>\n",
       "      <th>104</th>\n",
       "      <td>22.502530</td>\n",
       "      <td>18.915109</td>\n",
       "      <td>3</td>\n",
       "      <td>망우3동</td>\n",
       "      <td>중랑구</td>\n",
       "    </tr>\n",
       "    <tr>\n",
       "      <th>...</th>\n",
       "      <td>...</td>\n",
       "      <td>...</td>\n",
       "      <td>...</td>\n",
       "      <td>...</td>\n",
       "      <td>...</td>\n",
       "    </tr>\n",
       "    <tr>\n",
       "      <th>389</th>\n",
       "      <td>22.794201</td>\n",
       "      <td>24.000085</td>\n",
       "      <td>3</td>\n",
       "      <td>오금동</td>\n",
       "      <td>송파구</td>\n",
       "    </tr>\n",
       "    <tr>\n",
       "      <th>392</th>\n",
       "      <td>22.794201</td>\n",
       "      <td>18.760948</td>\n",
       "      <td>3</td>\n",
       "      <td>석촌동</td>\n",
       "      <td>송파구</td>\n",
       "    </tr>\n",
       "    <tr>\n",
       "      <th>405</th>\n",
       "      <td>22.794201</td>\n",
       "      <td>19.315407</td>\n",
       "      <td>3</td>\n",
       "      <td>장지동</td>\n",
       "      <td>송파구</td>\n",
       "    </tr>\n",
       "    <tr>\n",
       "      <th>416</th>\n",
       "      <td>25.633619</td>\n",
       "      <td>23.109650</td>\n",
       "      <td>3</td>\n",
       "      <td>천호3동</td>\n",
       "      <td>강동구</td>\n",
       "    </tr>\n",
       "    <tr>\n",
       "      <th>418</th>\n",
       "      <td>25.633619</td>\n",
       "      <td>20.792995</td>\n",
       "      <td>3</td>\n",
       "      <td>성내2동</td>\n",
       "      <td>강동구</td>\n",
       "    </tr>\n",
       "  </tbody>\n",
       "</table>\n",
       "<p>69 rows × 5 columns</p>\n",
       "</div>"
      ],
      "text/plain": [
       "        result       최종지수  labels   행정동  시군구\n",
       "95   22.502530  21.854096       3  면목4동  중랑구\n",
       "97   22.502530  19.713438       3  면목7동  중랑구\n",
       "98   22.502530  19.984666       3  상봉1동  중랑구\n",
       "102  22.502530  23.379482       3   묵1동  중랑구\n",
       "104  22.502530  18.915109       3  망우3동  중랑구\n",
       "..         ...        ...     ...   ...  ...\n",
       "389  22.794201  24.000085       3   오금동  송파구\n",
       "392  22.794201  18.760948       3   석촌동  송파구\n",
       "405  22.794201  19.315407       3   장지동  송파구\n",
       "416  25.633619  23.109650       3  천호3동  강동구\n",
       "418  25.633619  20.792995       3  성내2동  강동구\n",
       "\n",
       "[69 rows x 5 columns]"
      ]
     },
     "execution_count": 143,
     "metadata": {},
     "output_type": "execute_result"
    }
   ],
   "source": [
    "result1[result1[\"labels\"]==3]"
   ]
  },
  {
   "cell_type": "code",
   "execution_count": 144,
   "metadata": {},
   "outputs": [
    {
     "data": {
      "text/html": [
       "<div>\n",
       "<style scoped>\n",
       "    .dataframe tbody tr th:only-of-type {\n",
       "        vertical-align: middle;\n",
       "    }\n",
       "\n",
       "    .dataframe tbody tr th {\n",
       "        vertical-align: top;\n",
       "    }\n",
       "\n",
       "    .dataframe thead th {\n",
       "        text-align: right;\n",
       "    }\n",
       "</style>\n",
       "<table border=\"1\" class=\"dataframe\">\n",
       "  <thead>\n",
       "    <tr style=\"text-align: right;\">\n",
       "      <th></th>\n",
       "      <th>result</th>\n",
       "      <th>최종지수</th>\n",
       "    </tr>\n",
       "  </thead>\n",
       "  <tbody>\n",
       "    <tr>\n",
       "      <th>0</th>\n",
       "      <td>9.192956</td>\n",
       "      <td>12.171837</td>\n",
       "    </tr>\n",
       "    <tr>\n",
       "      <th>1</th>\n",
       "      <td>9.192956</td>\n",
       "      <td>8.794331</td>\n",
       "    </tr>\n",
       "    <tr>\n",
       "      <th>2</th>\n",
       "      <td>9.192956</td>\n",
       "      <td>11.909092</td>\n",
       "    </tr>\n",
       "    <tr>\n",
       "      <th>3</th>\n",
       "      <td>9.192956</td>\n",
       "      <td>15.632887</td>\n",
       "    </tr>\n",
       "    <tr>\n",
       "      <th>4</th>\n",
       "      <td>9.192956</td>\n",
       "      <td>10.954920</td>\n",
       "    </tr>\n",
       "    <tr>\n",
       "      <th>...</th>\n",
       "      <td>...</td>\n",
       "      <td>...</td>\n",
       "    </tr>\n",
       "    <tr>\n",
       "      <th>420</th>\n",
       "      <td>25.633619</td>\n",
       "      <td>6.900000</td>\n",
       "    </tr>\n",
       "    <tr>\n",
       "      <th>421</th>\n",
       "      <td>25.633619</td>\n",
       "      <td>18.653155</td>\n",
       "    </tr>\n",
       "    <tr>\n",
       "      <th>422</th>\n",
       "      <td>25.633619</td>\n",
       "      <td>26.646641</td>\n",
       "    </tr>\n",
       "    <tr>\n",
       "      <th>423</th>\n",
       "      <td>25.633619</td>\n",
       "      <td>27.124168</td>\n",
       "    </tr>\n",
       "    <tr>\n",
       "      <th>424</th>\n",
       "      <td>25.633619</td>\n",
       "      <td>28.712029</td>\n",
       "    </tr>\n",
       "  </tbody>\n",
       "</table>\n",
       "<p>425 rows × 2 columns</p>\n",
       "</div>"
      ],
      "text/plain": [
       "        result       최종지수\n",
       "0     9.192956  12.171837\n",
       "1     9.192956   8.794331\n",
       "2     9.192956  11.909092\n",
       "3     9.192956  15.632887\n",
       "4     9.192956  10.954920\n",
       "..         ...        ...\n",
       "420  25.633619   6.900000\n",
       "421  25.633619  18.653155\n",
       "422  25.633619  26.646641\n",
       "423  25.633619  27.124168\n",
       "424  25.633619  28.712029\n",
       "\n",
       "[425 rows x 2 columns]"
      ]
     },
     "execution_count": 144,
     "metadata": {},
     "output_type": "execute_result"
    }
   ],
   "source": [
    "df_clu"
   ]
  },
  {
   "cell_type": "code",
   "execution_count": 145,
   "metadata": {},
   "outputs": [
    {
     "data": {
      "text/plain": [
       "StandardScaler()"
      ]
     },
     "execution_count": 145,
     "metadata": {},
     "output_type": "execute_result"
    },
    {
     "data": {
      "text/html": [
       "<div>\n",
       "<style scoped>\n",
       "    .dataframe tbody tr th:only-of-type {\n",
       "        vertical-align: middle;\n",
       "    }\n",
       "\n",
       "    .dataframe tbody tr th {\n",
       "        vertical-align: top;\n",
       "    }\n",
       "\n",
       "    .dataframe thead th {\n",
       "        text-align: right;\n",
       "    }\n",
       "</style>\n",
       "<table border=\"1\" class=\"dataframe\">\n",
       "  <thead>\n",
       "    <tr style=\"text-align: right;\">\n",
       "      <th></th>\n",
       "      <th>result</th>\n",
       "      <th>최종지수</th>\n",
       "    </tr>\n",
       "  </thead>\n",
       "  <tbody>\n",
       "    <tr>\n",
       "      <th>0</th>\n",
       "      <td>-1.386583</td>\n",
       "      <td>-1.106428</td>\n",
       "    </tr>\n",
       "    <tr>\n",
       "      <th>1</th>\n",
       "      <td>-1.386583</td>\n",
       "      <td>-1.735670</td>\n",
       "    </tr>\n",
       "    <tr>\n",
       "      <th>2</th>\n",
       "      <td>-1.386583</td>\n",
       "      <td>-1.155379</td>\n",
       "    </tr>\n",
       "    <tr>\n",
       "      <th>3</th>\n",
       "      <td>-1.386583</td>\n",
       "      <td>-0.461622</td>\n",
       "    </tr>\n",
       "    <tr>\n",
       "      <th>4</th>\n",
       "      <td>-1.386583</td>\n",
       "      <td>-1.333144</td>\n",
       "    </tr>\n",
       "    <tr>\n",
       "      <th>...</th>\n",
       "      <td>...</td>\n",
       "      <td>...</td>\n",
       "    </tr>\n",
       "    <tr>\n",
       "      <th>420</th>\n",
       "      <td>1.703536</td>\n",
       "      <td>-2.088591</td>\n",
       "    </tr>\n",
       "    <tr>\n",
       "      <th>421</th>\n",
       "      <td>1.703536</td>\n",
       "      <td>0.101065</td>\n",
       "    </tr>\n",
       "    <tr>\n",
       "      <th>422</th>\n",
       "      <td>1.703536</td>\n",
       "      <td>1.590280</td>\n",
       "    </tr>\n",
       "    <tr>\n",
       "      <th>423</th>\n",
       "      <td>1.703536</td>\n",
       "      <td>1.679245</td>\n",
       "    </tr>\n",
       "    <tr>\n",
       "      <th>424</th>\n",
       "      <td>1.703536</td>\n",
       "      <td>1.975069</td>\n",
       "    </tr>\n",
       "  </tbody>\n",
       "</table>\n",
       "<p>425 rows × 2 columns</p>\n",
       "</div>"
      ],
      "text/plain": [
       "       result      최종지수\n",
       "0   -1.386583 -1.106428\n",
       "1   -1.386583 -1.735670\n",
       "2   -1.386583 -1.155379\n",
       "3   -1.386583 -0.461622\n",
       "4   -1.386583 -1.333144\n",
       "..        ...       ...\n",
       "420  1.703536 -2.088591\n",
       "421  1.703536  0.101065\n",
       "422  1.703536  1.590280\n",
       "423  1.703536  1.679245\n",
       "424  1.703536  1.975069\n",
       "\n",
       "[425 rows x 2 columns]"
      ]
     },
     "execution_count": 145,
     "metadata": {},
     "output_type": "execute_result"
    }
   ],
   "source": [
    "from sklearn.preprocessing import StandardScaler\n",
    "standardScaler = StandardScaler()\n",
    "standardScaler.fit(df_clu)\n",
    "std_df = pd.DataFrame(standardScaler.transform(df_clu),columns=[\"result\",\"최종지수\"])\n",
    "std_df"
   ]
  },
  {
   "cell_type": "code",
   "execution_count": 146,
   "metadata": {},
   "outputs": [
    {
     "data": {
      "application/javascript": "\n        if (window._pyforest_update_imports_cell) { window._pyforest_update_imports_cell('import seaborn as sns\\nfrom sklearn.cluster import KMeans'); }\n    ",
      "text/plain": [
       "<IPython.core.display.Javascript object>"
      ]
     },
     "metadata": {},
     "output_type": "display_data"
    },
    {
     "data": {
      "application/javascript": "\n        if (window._pyforest_update_imports_cell) { window._pyforest_update_imports_cell('import seaborn as sns\\nfrom sklearn.cluster import KMeans'); }\n    ",
      "text/plain": [
       "<IPython.core.display.Javascript object>"
      ]
     },
     "metadata": {},
     "output_type": "display_data"
    },
    {
     "data": {
      "application/javascript": "\n        if (window._pyforest_update_imports_cell) { window._pyforest_update_imports_cell('import seaborn as sns\\nfrom sklearn.cluster import KMeans'); }\n    ",
      "text/plain": [
       "<IPython.core.display.Javascript object>"
      ]
     },
     "metadata": {},
     "output_type": "display_data"
    },
    {
     "data": {
      "application/javascript": "\n        if (window._pyforest_update_imports_cell) { window._pyforest_update_imports_cell('import seaborn as sns\\nfrom sklearn.cluster import KMeans'); }\n    ",
      "text/plain": [
       "<IPython.core.display.Javascript object>"
      ]
     },
     "metadata": {},
     "output_type": "display_data"
    },
    {
     "data": {
      "application/javascript": "\n        if (window._pyforest_update_imports_cell) { window._pyforest_update_imports_cell('import seaborn as sns\\nfrom sklearn.cluster import KMeans'); }\n    ",
      "text/plain": [
       "<IPython.core.display.Javascript object>"
      ]
     },
     "metadata": {},
     "output_type": "display_data"
    },
    {
     "data": {
      "application/javascript": "\n        if (window._pyforest_update_imports_cell) { window._pyforest_update_imports_cell('import seaborn as sns\\nfrom sklearn.cluster import KMeans'); }\n    ",
      "text/plain": [
       "<IPython.core.display.Javascript object>"
      ]
     },
     "metadata": {},
     "output_type": "display_data"
    },
    {
     "data": {
      "application/javascript": "\n        if (window._pyforest_update_imports_cell) { window._pyforest_update_imports_cell('import seaborn as sns\\nfrom sklearn.cluster import KMeans'); }\n    ",
      "text/plain": [
       "<IPython.core.display.Javascript object>"
      ]
     },
     "metadata": {},
     "output_type": "display_data"
    },
    {
     "data": {
      "application/javascript": "\n        if (window._pyforest_update_imports_cell) { window._pyforest_update_imports_cell('import seaborn as sns\\nfrom sklearn.cluster import KMeans'); }\n    ",
      "text/plain": [
       "<IPython.core.display.Javascript object>"
      ]
     },
     "metadata": {},
     "output_type": "display_data"
    },
    {
     "data": {
      "application/javascript": "\n        if (window._pyforest_update_imports_cell) { window._pyforest_update_imports_cell('import seaborn as sns\\nfrom sklearn.cluster import KMeans'); }\n    ",
      "text/plain": [
       "<IPython.core.display.Javascript object>"
      ]
     },
     "metadata": {},
     "output_type": "display_data"
    },
    {
     "data": {
      "application/javascript": "\n        if (window._pyforest_update_imports_cell) { window._pyforest_update_imports_cell('import seaborn as sns\\nfrom sklearn.cluster import KMeans'); }\n    ",
      "text/plain": [
       "<IPython.core.display.Javascript object>"
      ]
     },
     "metadata": {},
     "output_type": "display_data"
    },
    {
     "data": {
      "application/javascript": "\n        if (window._pyforest_update_imports_cell) { window._pyforest_update_imports_cell('import seaborn as sns\\nfrom sklearn.cluster import KMeans'); }\n    ",
      "text/plain": [
       "<IPython.core.display.Javascript object>"
      ]
     },
     "metadata": {},
     "output_type": "display_data"
    },
    {
     "data": {
      "application/javascript": "\n        if (window._pyforest_update_imports_cell) { window._pyforest_update_imports_cell('import seaborn as sns\\nfrom sklearn.cluster import KMeans'); }\n    ",
      "text/plain": [
       "<IPython.core.display.Javascript object>"
      ]
     },
     "metadata": {},
     "output_type": "display_data"
    },
    {
     "data": {
      "application/javascript": "\n        if (window._pyforest_update_imports_cell) { window._pyforest_update_imports_cell('import seaborn as sns\\nfrom sklearn.cluster import KMeans'); }\n    ",
      "text/plain": [
       "<IPython.core.display.Javascript object>"
      ]
     },
     "metadata": {},
     "output_type": "display_data"
    },
    {
     "data": {
      "application/javascript": "\n        if (window._pyforest_update_imports_cell) { window._pyforest_update_imports_cell('import seaborn as sns\\nfrom sklearn.cluster import KMeans'); }\n    ",
      "text/plain": [
       "<IPython.core.display.Javascript object>"
      ]
     },
     "metadata": {},
     "output_type": "display_data"
    },
    {
     "data": {
      "application/javascript": "\n        if (window._pyforest_update_imports_cell) { window._pyforest_update_imports_cell('import seaborn as sns\\nfrom sklearn.cluster import KMeans'); }\n    ",
      "text/plain": [
       "<IPython.core.display.Javascript object>"
      ]
     },
     "metadata": {},
     "output_type": "display_data"
    },
    {
     "data": {
      "application/javascript": "\n        if (window._pyforest_update_imports_cell) { window._pyforest_update_imports_cell('import seaborn as sns\\nfrom sklearn.cluster import KMeans'); }\n    ",
      "text/plain": [
       "<IPython.core.display.Javascript object>"
      ]
     },
     "metadata": {},
     "output_type": "display_data"
    },
    {
     "data": {
      "application/javascript": "\n        if (window._pyforest_update_imports_cell) { window._pyforest_update_imports_cell('import seaborn as sns\\nfrom sklearn.cluster import KMeans'); }\n    ",
      "text/plain": [
       "<IPython.core.display.Javascript object>"
      ]
     },
     "metadata": {},
     "output_type": "display_data"
    },
    {
     "data": {
      "application/javascript": "\n        if (window._pyforest_update_imports_cell) { window._pyforest_update_imports_cell('import seaborn as sns\\nfrom sklearn.cluster import KMeans'); }\n    ",
      "text/plain": [
       "<IPython.core.display.Javascript object>"
      ]
     },
     "metadata": {},
     "output_type": "display_data"
    },
    {
     "data": {
      "image/png": "[encoded data removed]",
      "text/plain": [
       "<Figure size 864x432 with 1 Axes>"
      ]
     },
     "metadata": {
      "needs_background": "light"
     },
     "output_type": "display_data"
    }
   ],
   "source": [
    "change_n_clusters(range(2,20), std_df)"
   ]
  },
  {
   "cell_type": "code",
   "execution_count": 163,
   "metadata": {},
   "outputs": [
    {
     "data": {
      "application/javascript": "\n        if (window._pyforest_update_imports_cell) { window._pyforest_update_imports_cell('import seaborn as sns\\nfrom sklearn.cluster import KMeans'); }\n    ",
      "text/plain": [
       "<IPython.core.display.Javascript object>"
      ]
     },
     "metadata": {},
     "output_type": "display_data"
    },
    {
     "data": {
      "text/plain": [
       "<Figure size 864x432 with 0 Axes>"
      ]
     },
     "execution_count": 163,
     "metadata": {},
     "output_type": "execute_result"
    },
    {
     "data": {
      "application/javascript": "\n        if (window._pyforest_update_imports_cell) { window._pyforest_update_imports_cell('import seaborn as sns\\nfrom sklearn.cluster import KMeans'); }\n    ",
      "text/plain": [
       "<IPython.core.display.Javascript object>"
      ]
     },
     "metadata": {},
     "output_type": "display_data"
    },
    {
     "data": {
      "text/plain": [
       "<AxesSubplot:xlabel='result', ylabel='최종지수'>"
      ]
     },
     "execution_count": 163,
     "metadata": {},
     "output_type": "execute_result"
    },
    {
     "data": {
      "text/plain": [
       "Text(0.5, 1.0, 'KMeans Clustering')"
      ]
     },
     "execution_count": 163,
     "metadata": {},
     "output_type": "execute_result"
    },
    {
     "data": {
      "text/plain": [
       "<matplotlib.legend.Legend at 0x23a3946bb80>"
      ]
     },
     "execution_count": 163,
     "metadata": {},
     "output_type": "execute_result"
    },
    {
     "data": {
      "image/png": "[encoded data removed]",
      "text/plain": [
       "<Figure size 864x432 with 1 Axes>"
      ]
     },
     "metadata": {
      "needs_background": "light"
     },
     "output_type": "display_data"
    }
   ],
   "source": [
    "km = KMeans(n_clusters=7)\n",
    "\n",
    "cluster = km.fit(std_df)\n",
    "\n",
    "cluster_id = pd.DataFrame(cluster.labels_)\n",
    "\n",
    "d1 = pd.concat([std_df, cluster_id], axis=1)\n",
    "\n",
    "d1.columns = [\"result\", \"최종지수\", \"labels\"]\n",
    "plt.figure(1 , figsize = (12, 6))\n",
    "sns.scatterplot(d1[\"result\"], d1[\"최종지수\"], hue = d1['labels'], legend=\"full\", palette=\"bright\")\n",
    "\n",
    "plt.title(\"KMeans Clustering\")\n",
    "\n",
    "plt.legend()\n",
    "plt.show()"
   ]
  },
  {
   "cell_type": "code",
   "execution_count": 164,
   "metadata": {},
   "outputs": [
    {
     "data": {
      "text/html": [
       "<div>\n",
       "<style scoped>\n",
       "    .dataframe tbody tr th:only-of-type {\n",
       "        vertical-align: middle;\n",
       "    }\n",
       "\n",
       "    .dataframe tbody tr th {\n",
       "        vertical-align: top;\n",
       "    }\n",
       "\n",
       "    .dataframe thead th {\n",
       "        text-align: right;\n",
       "    }\n",
       "</style>\n",
       "<table border=\"1\" class=\"dataframe\">\n",
       "  <thead>\n",
       "    <tr style=\"text-align: right;\">\n",
       "      <th></th>\n",
       "      <th>result</th>\n",
       "      <th>최종지수</th>\n",
       "      <th>labels</th>\n",
       "      <th>행정동</th>\n",
       "      <th>시군구</th>\n",
       "    </tr>\n",
       "  </thead>\n",
       "  <tbody>\n",
       "    <tr>\n",
       "      <th>0</th>\n",
       "      <td>-1.386583</td>\n",
       "      <td>-1.106428</td>\n",
       "      <td>4</td>\n",
       "      <td>사직동</td>\n",
       "      <td>종로구</td>\n",
       "    </tr>\n",
       "    <tr>\n",
       "      <th>1</th>\n",
       "      <td>-1.386583</td>\n",
       "      <td>-1.735670</td>\n",
       "      <td>4</td>\n",
       "      <td>삼청동</td>\n",
       "      <td>종로구</td>\n",
       "    </tr>\n",
       "    <tr>\n",
       "      <th>2</th>\n",
       "      <td>-1.386583</td>\n",
       "      <td>-1.155379</td>\n",
       "      <td>4</td>\n",
       "      <td>부암동</td>\n",
       "      <td>종로구</td>\n",
       "    </tr>\n",
       "    <tr>\n",
       "      <th>3</th>\n",
       "      <td>-1.386583</td>\n",
       "      <td>-0.461622</td>\n",
       "      <td>4</td>\n",
       "      <td>평창동</td>\n",
       "      <td>종로구</td>\n",
       "    </tr>\n",
       "    <tr>\n",
       "      <th>4</th>\n",
       "      <td>-1.386583</td>\n",
       "      <td>-1.333144</td>\n",
       "      <td>4</td>\n",
       "      <td>무악동</td>\n",
       "      <td>종로구</td>\n",
       "    </tr>\n",
       "    <tr>\n",
       "      <th>...</th>\n",
       "      <td>...</td>\n",
       "      <td>...</td>\n",
       "      <td>...</td>\n",
       "      <td>...</td>\n",
       "      <td>...</td>\n",
       "    </tr>\n",
       "    <tr>\n",
       "      <th>420</th>\n",
       "      <td>1.703536</td>\n",
       "      <td>-2.088591</td>\n",
       "      <td>2</td>\n",
       "      <td>둔촌1동</td>\n",
       "      <td>강동구</td>\n",
       "    </tr>\n",
       "    <tr>\n",
       "      <th>421</th>\n",
       "      <td>1.703536</td>\n",
       "      <td>0.101065</td>\n",
       "      <td>2</td>\n",
       "      <td>둔촌2동</td>\n",
       "      <td>강동구</td>\n",
       "    </tr>\n",
       "    <tr>\n",
       "      <th>422</th>\n",
       "      <td>1.703536</td>\n",
       "      <td>1.590280</td>\n",
       "      <td>1</td>\n",
       "      <td>암사1동</td>\n",
       "      <td>강동구</td>\n",
       "    </tr>\n",
       "    <tr>\n",
       "      <th>423</th>\n",
       "      <td>1.703536</td>\n",
       "      <td>1.679245</td>\n",
       "      <td>1</td>\n",
       "      <td>천호2동</td>\n",
       "      <td>강동구</td>\n",
       "    </tr>\n",
       "    <tr>\n",
       "      <th>424</th>\n",
       "      <td>1.703536</td>\n",
       "      <td>1.975069</td>\n",
       "      <td>1</td>\n",
       "      <td>길동</td>\n",
       "      <td>강동구</td>\n",
       "    </tr>\n",
       "  </tbody>\n",
       "</table>\n",
       "<p>425 rows × 5 columns</p>\n",
       "</div>"
      ],
      "text/plain": [
       "       result      최종지수  labels   행정동  시군구\n",
       "0   -1.386583 -1.106428       4   사직동  종로구\n",
       "1   -1.386583 -1.735670       4   삼청동  종로구\n",
       "2   -1.386583 -1.155379       4   부암동  종로구\n",
       "3   -1.386583 -0.461622       4   평창동  종로구\n",
       "4   -1.386583 -1.333144       4   무악동  종로구\n",
       "..        ...       ...     ...   ...  ...\n",
       "420  1.703536 -2.088591       2  둔촌1동  강동구\n",
       "421  1.703536  0.101065       2  둔촌2동  강동구\n",
       "422  1.703536  1.590280       1  암사1동  강동구\n",
       "423  1.703536  1.679245       1  천호2동  강동구\n",
       "424  1.703536  1.975069       1    길동  강동구\n",
       "\n",
       "[425 rows x 5 columns]"
      ]
     },
     "execution_count": 164,
     "metadata": {},
     "output_type": "execute_result"
    }
   ],
   "source": [
    "result2=pd.concat([d1,data[[\"행정동\",\"시군구\"]]],axis=1)\n",
    "result2"
   ]
  },
  {
   "cell_type": "code",
   "execution_count": 165,
   "metadata": {},
   "outputs": [
    {
     "data": {
      "text/plain": [
       "0    86\n",
       "4    81\n",
       "2    70\n",
       "6    69\n",
       "1    45\n",
       "5    39\n",
       "3    35\n",
       "Name: labels, dtype: int64"
      ]
     },
     "execution_count": 165,
     "metadata": {},
     "output_type": "execute_result"
    },
    {
     "data": {
      "text/html": [
       "<div>\n",
       "<style scoped>\n",
       "    .dataframe tbody tr th:only-of-type {\n",
       "        vertical-align: middle;\n",
       "    }\n",
       "\n",
       "    .dataframe tbody tr th {\n",
       "        vertical-align: top;\n",
       "    }\n",
       "\n",
       "    .dataframe thead th {\n",
       "        text-align: right;\n",
       "    }\n",
       "</style>\n",
       "<table border=\"1\" class=\"dataframe\">\n",
       "  <thead>\n",
       "    <tr style=\"text-align: right;\">\n",
       "      <th></th>\n",
       "      <th>result</th>\n",
       "      <th>최종지수</th>\n",
       "    </tr>\n",
       "    <tr>\n",
       "      <th>labels</th>\n",
       "      <th></th>\n",
       "      <th></th>\n",
       "    </tr>\n",
       "  </thead>\n",
       "  <tbody>\n",
       "    <tr>\n",
       "      <th>0</th>\n",
       "      <td>-0.737710</td>\n",
       "      <td>-0.079820</td>\n",
       "    </tr>\n",
       "    <tr>\n",
       "      <th>1</th>\n",
       "      <td>0.959305</td>\n",
       "      <td>1.878080</td>\n",
       "    </tr>\n",
       "    <tr>\n",
       "      <th>2</th>\n",
       "      <td>1.203985</td>\n",
       "      <td>-0.582288</td>\n",
       "    </tr>\n",
       "    <tr>\n",
       "      <th>3</th>\n",
       "      <td>-0.507236</td>\n",
       "      <td>1.261183</td>\n",
       "    </tr>\n",
       "    <tr>\n",
       "      <th>4</th>\n",
       "      <td>-1.219851</td>\n",
       "      <td>-1.013899</td>\n",
       "    </tr>\n",
       "    <tr>\n",
       "      <th>5</th>\n",
       "      <td>-0.074785</td>\n",
       "      <td>-0.781183</td>\n",
       "    </tr>\n",
       "    <tr>\n",
       "      <th>6</th>\n",
       "      <td>0.803959</td>\n",
       "      <td>0.457415</td>\n",
       "    </tr>\n",
       "  </tbody>\n",
       "</table>\n",
       "</div>"
      ],
      "text/plain": [
       "          result      최종지수\n",
       "labels                    \n",
       "0      -0.737710 -0.079820\n",
       "1       0.959305  1.878080\n",
       "2       1.203985 -0.582288\n",
       "3      -0.507236  1.261183\n",
       "4      -1.219851 -1.013899\n",
       "5      -0.074785 -0.781183\n",
       "6       0.803959  0.457415"
      ]
     },
     "execution_count": 165,
     "metadata": {},
     "output_type": "execute_result"
    }
   ],
   "source": [
    "result2[\"labels\"].value_counts()\n",
    "\n",
    "pd.pivot_table(data=result2,index = 'labels',aggfunc='mean')"
   ]
  },
  {
   "cell_type": "code",
   "execution_count": 26,
   "metadata": {},
   "outputs": [],
   "source": [
    "result2[result2[\"labels\"]==1].to_excel(\"seoulclu.xlsx\")"
   ]
  },
  {
   "cell_type": "code",
   "execution_count": 166,
   "metadata": {},
   "outputs": [
    {
     "data": {
      "text/html": [
       "<div>\n",
       "<style scoped>\n",
       "    .dataframe tbody tr th:only-of-type {\n",
       "        vertical-align: middle;\n",
       "    }\n",
       "\n",
       "    .dataframe tbody tr th {\n",
       "        vertical-align: top;\n",
       "    }\n",
       "\n",
       "    .dataframe thead th {\n",
       "        text-align: right;\n",
       "    }\n",
       "</style>\n",
       "<table border=\"1\" class=\"dataframe\">\n",
       "  <thead>\n",
       "    <tr style=\"text-align: right;\">\n",
       "      <th></th>\n",
       "      <th>result</th>\n",
       "      <th>최종지수</th>\n",
       "      <th>labels</th>\n",
       "      <th>행정동</th>\n",
       "      <th>시군구</th>\n",
       "    </tr>\n",
       "  </thead>\n",
       "  <tbody>\n",
       "    <tr>\n",
       "      <th>101</th>\n",
       "      <td>1.115030</td>\n",
       "      <td>1.346866</td>\n",
       "      <td>1</td>\n",
       "      <td>중화2동</td>\n",
       "      <td>중랑구</td>\n",
       "    </tr>\n",
       "    <tr>\n",
       "      <th>105</th>\n",
       "      <td>1.115030</td>\n",
       "      <td>2.098733</td>\n",
       "      <td>1</td>\n",
       "      <td>신내1동</td>\n",
       "      <td>중랑구</td>\n",
       "    </tr>\n",
       "    <tr>\n",
       "      <th>107</th>\n",
       "      <td>1.115030</td>\n",
       "      <td>1.880243</td>\n",
       "      <td>1</td>\n",
       "      <td>면목본동</td>\n",
       "      <td>중랑구</td>\n",
       "    </tr>\n",
       "    <tr>\n",
       "      <th>109</th>\n",
       "      <td>1.115030</td>\n",
       "      <td>1.901186</td>\n",
       "      <td>1</td>\n",
       "      <td>망우본동</td>\n",
       "      <td>중랑구</td>\n",
       "    </tr>\n",
       "    <tr>\n",
       "      <th>128</th>\n",
       "      <td>0.743006</td>\n",
       "      <td>1.394970</td>\n",
       "      <td>1</td>\n",
       "      <td>종암동</td>\n",
       "      <td>성북구</td>\n",
       "    </tr>\n",
       "    <tr>\n",
       "      <th>129</th>\n",
       "      <td>0.743006</td>\n",
       "      <td>1.961496</td>\n",
       "      <td>1</td>\n",
       "      <td>석관동</td>\n",
       "      <td>성북구</td>\n",
       "    </tr>\n",
       "    <tr>\n",
       "      <th>131</th>\n",
       "      <td>0.442402</td>\n",
       "      <td>1.320840</td>\n",
       "      <td>1</td>\n",
       "      <td>번2동</td>\n",
       "      <td>강북구</td>\n",
       "    </tr>\n",
       "    <tr>\n",
       "      <th>132</th>\n",
       "      <td>0.442402</td>\n",
       "      <td>2.551155</td>\n",
       "      <td>1</td>\n",
       "      <td>번3동</td>\n",
       "      <td>강북구</td>\n",
       "    </tr>\n",
       "    <tr>\n",
       "      <th>136</th>\n",
       "      <td>0.442402</td>\n",
       "      <td>1.240030</td>\n",
       "      <td>1</td>\n",
       "      <td>삼양동</td>\n",
       "      <td>강북구</td>\n",
       "    </tr>\n",
       "    <tr>\n",
       "      <th>138</th>\n",
       "      <td>0.442402</td>\n",
       "      <td>1.644641</td>\n",
       "      <td>1</td>\n",
       "      <td>송중동</td>\n",
       "      <td>강북구</td>\n",
       "    </tr>\n",
       "    <tr>\n",
       "      <th>139</th>\n",
       "      <td>0.442402</td>\n",
       "      <td>1.814464</td>\n",
       "      <td>1</td>\n",
       "      <td>송천동</td>\n",
       "      <td>강북구</td>\n",
       "    </tr>\n",
       "    <tr>\n",
       "      <th>142</th>\n",
       "      <td>0.442402</td>\n",
       "      <td>1.996194</td>\n",
       "      <td>1</td>\n",
       "      <td>인수동</td>\n",
       "      <td>강북구</td>\n",
       "    </tr>\n",
       "    <tr>\n",
       "      <th>147</th>\n",
       "      <td>0.515288</td>\n",
       "      <td>1.467326</td>\n",
       "      <td>1</td>\n",
       "      <td>방학1동</td>\n",
       "      <td>도봉구</td>\n",
       "    </tr>\n",
       "    <tr>\n",
       "      <th>155</th>\n",
       "      <td>0.515288</td>\n",
       "      <td>1.657528</td>\n",
       "      <td>1</td>\n",
       "      <td>도봉1동</td>\n",
       "      <td>도봉구</td>\n",
       "    </tr>\n",
       "    <tr>\n",
       "      <th>156</th>\n",
       "      <td>0.515288</td>\n",
       "      <td>1.707712</td>\n",
       "      <td>1</td>\n",
       "      <td>도봉2동</td>\n",
       "      <td>도봉구</td>\n",
       "    </tr>\n",
       "    <tr>\n",
       "      <th>158</th>\n",
       "      <td>1.873150</td>\n",
       "      <td>2.446774</td>\n",
       "      <td>1</td>\n",
       "      <td>월계2동</td>\n",
       "      <td>노원구</td>\n",
       "    </tr>\n",
       "    <tr>\n",
       "      <th>159</th>\n",
       "      <td>1.873150</td>\n",
       "      <td>2.044855</td>\n",
       "      <td>1</td>\n",
       "      <td>월계3동</td>\n",
       "      <td>노원구</td>\n",
       "    </tr>\n",
       "    <tr>\n",
       "      <th>166</th>\n",
       "      <td>1.873150</td>\n",
       "      <td>1.960822</td>\n",
       "      <td>1</td>\n",
       "      <td>상계1동</td>\n",
       "      <td>노원구</td>\n",
       "    </tr>\n",
       "    <tr>\n",
       "      <th>168</th>\n",
       "      <td>1.873150</td>\n",
       "      <td>1.261109</td>\n",
       "      <td>1</td>\n",
       "      <td>상계5동</td>\n",
       "      <td>노원구</td>\n",
       "    </tr>\n",
       "    <tr>\n",
       "      <th>172</th>\n",
       "      <td>1.873150</td>\n",
       "      <td>2.504495</td>\n",
       "      <td>1</td>\n",
       "      <td>상계3.4동</td>\n",
       "      <td>노원구</td>\n",
       "    </tr>\n",
       "    <tr>\n",
       "      <th>174</th>\n",
       "      <td>1.873150</td>\n",
       "      <td>4.260605</td>\n",
       "      <td>1</td>\n",
       "      <td>중계2.3동</td>\n",
       "      <td>노원구</td>\n",
       "    </tr>\n",
       "    <tr>\n",
       "      <th>175</th>\n",
       "      <td>1.873150</td>\n",
       "      <td>2.154212</td>\n",
       "      <td>1</td>\n",
       "      <td>공릉1동</td>\n",
       "      <td>노원구</td>\n",
       "    </tr>\n",
       "    <tr>\n",
       "      <th>176</th>\n",
       "      <td>0.358973</td>\n",
       "      <td>1.919437</td>\n",
       "      <td>1</td>\n",
       "      <td>녹번동</td>\n",
       "      <td>은평구</td>\n",
       "    </tr>\n",
       "    <tr>\n",
       "      <th>177</th>\n",
       "      <td>0.358973</td>\n",
       "      <td>2.279332</td>\n",
       "      <td>1</td>\n",
       "      <td>불광1동</td>\n",
       "      <td>은평구</td>\n",
       "    </tr>\n",
       "    <tr>\n",
       "      <th>180</th>\n",
       "      <td>0.358973</td>\n",
       "      <td>1.422644</td>\n",
       "      <td>1</td>\n",
       "      <td>구산동</td>\n",
       "      <td>은평구</td>\n",
       "    </tr>\n",
       "    <tr>\n",
       "      <th>189</th>\n",
       "      <td>0.358973</td>\n",
       "      <td>1.878705</td>\n",
       "      <td>1</td>\n",
       "      <td>불광2동</td>\n",
       "      <td>은평구</td>\n",
       "    </tr>\n",
       "    <tr>\n",
       "      <th>190</th>\n",
       "      <td>0.358973</td>\n",
       "      <td>1.511450</td>\n",
       "      <td>1</td>\n",
       "      <td>응암3동</td>\n",
       "      <td>은평구</td>\n",
       "    </tr>\n",
       "    <tr>\n",
       "      <th>191</th>\n",
       "      <td>0.358973</td>\n",
       "      <td>2.790875</td>\n",
       "      <td>1</td>\n",
       "      <td>역촌동</td>\n",
       "      <td>은평구</td>\n",
       "    </tr>\n",
       "    <tr>\n",
       "      <th>243</th>\n",
       "      <td>0.728760</td>\n",
       "      <td>3.503036</td>\n",
       "      <td>1</td>\n",
       "      <td>등촌3동</td>\n",
       "      <td>강서구</td>\n",
       "    </tr>\n",
       "    <tr>\n",
       "      <th>251</th>\n",
       "      <td>0.728760</td>\n",
       "      <td>1.962333</td>\n",
       "      <td>1</td>\n",
       "      <td>가양2동</td>\n",
       "      <td>강서구</td>\n",
       "    </tr>\n",
       "    <tr>\n",
       "      <th>252</th>\n",
       "      <td>0.728760</td>\n",
       "      <td>1.263028</td>\n",
       "      <td>1</td>\n",
       "      <td>가양3동</td>\n",
       "      <td>강서구</td>\n",
       "    </tr>\n",
       "    <tr>\n",
       "      <th>255</th>\n",
       "      <td>0.728760</td>\n",
       "      <td>1.512557</td>\n",
       "      <td>1</td>\n",
       "      <td>방화1동</td>\n",
       "      <td>강서구</td>\n",
       "    </tr>\n",
       "    <tr>\n",
       "      <th>257</th>\n",
       "      <td>0.728760</td>\n",
       "      <td>1.757912</td>\n",
       "      <td>1</td>\n",
       "      <td>방화3동</td>\n",
       "      <td>강서구</td>\n",
       "    </tr>\n",
       "    <tr>\n",
       "      <th>258</th>\n",
       "      <td>0.728760</td>\n",
       "      <td>2.523531</td>\n",
       "      <td>1</td>\n",
       "      <td>화곡1동</td>\n",
       "      <td>강서구</td>\n",
       "    </tr>\n",
       "    <tr>\n",
       "      <th>334</th>\n",
       "      <td>0.955245</td>\n",
       "      <td>1.539631</td>\n",
       "      <td>1</td>\n",
       "      <td>은천동</td>\n",
       "      <td>관악구</td>\n",
       "    </tr>\n",
       "    <tr>\n",
       "      <th>335</th>\n",
       "      <td>0.955245</td>\n",
       "      <td>1.248112</td>\n",
       "      <td>1</td>\n",
       "      <td>성현동</td>\n",
       "      <td>관악구</td>\n",
       "    </tr>\n",
       "    <tr>\n",
       "      <th>337</th>\n",
       "      <td>0.955245</td>\n",
       "      <td>1.343524</td>\n",
       "      <td>1</td>\n",
       "      <td>난곡동</td>\n",
       "      <td>관악구</td>\n",
       "    </tr>\n",
       "    <tr>\n",
       "      <th>338</th>\n",
       "      <td>0.955245</td>\n",
       "      <td>1.931669</td>\n",
       "      <td>1</td>\n",
       "      <td>삼성동</td>\n",
       "      <td>관악구</td>\n",
       "    </tr>\n",
       "    <tr>\n",
       "      <th>339</th>\n",
       "      <td>0.955245</td>\n",
       "      <td>1.262252</td>\n",
       "      <td>1</td>\n",
       "      <td>미성동</td>\n",
       "      <td>관악구</td>\n",
       "    </tr>\n",
       "    <tr>\n",
       "      <th>374</th>\n",
       "      <td>0.089939</td>\n",
       "      <td>2.078179</td>\n",
       "      <td>1</td>\n",
       "      <td>수서동</td>\n",
       "      <td>강남구</td>\n",
       "    </tr>\n",
       "    <tr>\n",
       "      <th>407</th>\n",
       "      <td>1.703536</td>\n",
       "      <td>1.813505</td>\n",
       "      <td>1</td>\n",
       "      <td>강일동</td>\n",
       "      <td>강동구</td>\n",
       "    </tr>\n",
       "    <tr>\n",
       "      <th>415</th>\n",
       "      <td>1.703536</td>\n",
       "      <td>1.111036</td>\n",
       "      <td>1</td>\n",
       "      <td>천호1동</td>\n",
       "      <td>강동구</td>\n",
       "    </tr>\n",
       "    <tr>\n",
       "      <th>422</th>\n",
       "      <td>1.703536</td>\n",
       "      <td>1.590280</td>\n",
       "      <td>1</td>\n",
       "      <td>암사1동</td>\n",
       "      <td>강동구</td>\n",
       "    </tr>\n",
       "    <tr>\n",
       "      <th>423</th>\n",
       "      <td>1.703536</td>\n",
       "      <td>1.679245</td>\n",
       "      <td>1</td>\n",
       "      <td>천호2동</td>\n",
       "      <td>강동구</td>\n",
       "    </tr>\n",
       "    <tr>\n",
       "      <th>424</th>\n",
       "      <td>1.703536</td>\n",
       "      <td>1.975069</td>\n",
       "      <td>1</td>\n",
       "      <td>길동</td>\n",
       "      <td>강동구</td>\n",
       "    </tr>\n",
       "  </tbody>\n",
       "</table>\n",
       "</div>"
      ],
      "text/plain": [
       "       result      최종지수  labels     행정동  시군구\n",
       "101  1.115030  1.346866       1    중화2동  중랑구\n",
       "105  1.115030  2.098733       1    신내1동  중랑구\n",
       "107  1.115030  1.880243       1    면목본동  중랑구\n",
       "109  1.115030  1.901186       1    망우본동  중랑구\n",
       "128  0.743006  1.394970       1     종암동  성북구\n",
       "129  0.743006  1.961496       1     석관동  성북구\n",
       "131  0.442402  1.320840       1     번2동  강북구\n",
       "132  0.442402  2.551155       1     번3동  강북구\n",
       "136  0.442402  1.240030       1     삼양동  강북구\n",
       "138  0.442402  1.644641       1     송중동  강북구\n",
       "139  0.442402  1.814464       1     송천동  강북구\n",
       "142  0.442402  1.996194       1     인수동  강북구\n",
       "147  0.515288  1.467326       1    방학1동  도봉구\n",
       "155  0.515288  1.657528       1    도봉1동  도봉구\n",
       "156  0.515288  1.707712       1    도봉2동  도봉구\n",
       "158  1.873150  2.446774       1    월계2동  노원구\n",
       "159  1.873150  2.044855       1    월계3동  노원구\n",
       "166  1.873150  1.960822       1    상계1동  노원구\n",
       "168  1.873150  1.261109       1    상계5동  노원구\n",
       "172  1.873150  2.504495       1  상계3.4동  노원구\n",
       "174  1.873150  4.260605       1  중계2.3동  노원구\n",
       "175  1.873150  2.154212       1    공릉1동  노원구\n",
       "176  0.358973  1.919437       1     녹번동  은평구\n",
       "177  0.358973  2.279332       1    불광1동  은평구\n",
       "180  0.358973  1.422644       1     구산동  은평구\n",
       "189  0.358973  1.878705       1    불광2동  은평구\n",
       "190  0.358973  1.511450       1    응암3동  은평구\n",
       "191  0.358973  2.790875       1     역촌동  은평구\n",
       "243  0.728760  3.503036       1    등촌3동  강서구\n",
       "251  0.728760  1.962333       1    가양2동  강서구\n",
       "252  0.728760  1.263028       1    가양3동  강서구\n",
       "255  0.728760  1.512557       1    방화1동  강서구\n",
       "257  0.728760  1.757912       1    방화3동  강서구\n",
       "258  0.728760  2.523531       1    화곡1동  강서구\n",
       "334  0.955245  1.539631       1     은천동  관악구\n",
       "335  0.955245  1.248112       1     성현동  관악구\n",
       "337  0.955245  1.343524       1     난곡동  관악구\n",
       "338  0.955245  1.931669       1     삼성동  관악구\n",
       "339  0.955245  1.262252       1     미성동  관악구\n",
       "374  0.089939  2.078179       1     수서동  강남구\n",
       "407  1.703536  1.813505       1     강일동  강동구\n",
       "415  1.703536  1.111036       1    천호1동  강동구\n",
       "422  1.703536  1.590280       1    암사1동  강동구\n",
       "423  1.703536  1.679245       1    천호2동  강동구\n",
       "424  1.703536  1.975069       1      길동  강동구"
      ]
     },
     "execution_count": 166,
     "metadata": {},
     "output_type": "execute_result"
    }
   ],
   "source": [
    "result2[result2[\"labels\"]==1]"
   ]
  }
 ],
 "metadata": {
  "interpreter": {
   "hash": "edac6d70547350b1641a4f9d1c98752fa2ed91b49bd9d0833857674241cbf83e"
  },
  "kernelspec": {
   "display_name": "Python 3.8.5 64-bit ('base': conda)",
   "name": "python3"
  },
  "language_info": {
   "codemirror_mode": {
    "name": "ipython",
    "version": 3
   },
   "file_extension": ".py",
   "mimetype": "text/x-python",
   "name": "python",
   "nbconvert_exporter": "python",
   "pygments_lexer": "ipython3",
   "version": "3.8.5"
  },
  "orig_nbformat": 4
 },
 "nbformat": 4,
 "nbformat_minor": 2
}
